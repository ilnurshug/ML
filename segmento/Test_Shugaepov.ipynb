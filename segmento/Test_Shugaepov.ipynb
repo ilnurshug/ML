{
 "cells": [
  {
   "cell_type": "markdown",
   "metadata": {},
   "source": [
    "# Предобработка данных\n",
    "\n",
    "Прежде чем мы перейдем к обучению моделей нам необходимо выполнить преобразование исходных данных в удобный для использования вид"
   ]
  },
  {
   "cell_type": "code",
   "execution_count": 1,
   "metadata": {
    "collapsed": false
   },
   "outputs": [],
   "source": [
    "%matplotlib inline\n",
    "import csv\n",
    "import numpy as np\n",
    "from scipy.sparse import *\n",
    "from scipy import *\n",
    "\n",
    "\n",
    "def read_raw_data():\n",
    "    with open('dataset_for_candidates (2).tsv', newline='') as data_file:\n",
    "        reader = csv.reader(data_file, delimiter='\\t')\n",
    "        return [row for row in reader]"
   ]
  },
  {
   "cell_type": "code",
   "execution_count": 2,
   "metadata": {
    "collapsed": false
   },
   "outputs": [],
   "source": [
    "raw_data = read_raw_data()"
   ]
  },
  {
   "cell_type": "code",
   "execution_count": 3,
   "metadata": {
    "collapsed": true
   },
   "outputs": [],
   "source": [
    "def get_feature_name(kv_str):\n",
    "    return kv_str.split('#')[0]\n",
    "\n",
    "def get_feature_value(kv_str):\n",
    "    return kv_str.split('#')[1]"
   ]
  },
  {
   "cell_type": "code",
   "execution_count": 4,
   "metadata": {
    "collapsed": false
   },
   "outputs": [],
   "source": [
    "sex_labels_to_y = {'female':0, 'male':1}\n",
    "\n",
    "Y_sex = np.array([sex_labels_to_y[get_feature_name(row[1])] for row in raw_data])"
   ]
  },
  {
   "cell_type": "markdown",
   "metadata": {},
   "source": [
    "```python\n",
    "print(len(feature_names))\n",
    "print(np.mean([len(row)-2 for row in raw_data]))\n",
    "```\n",
    "233484\n",
    "162.899673333\n",
    "\n",
    "очень разреженные данные"
   ]
  },
  {
   "cell_type": "markdown",
   "metadata": {},
   "source": [
    "Мы хотим преобразовать исходные данные в формат ```csr_matrix```, для этого мы\n",
    "извлекаем из данных названия всех фичей и создаем отображение из названия фичи в целое число"
   ]
  },
  {
   "cell_type": "code",
   "execution_count": 5,
   "metadata": {
    "collapsed": false
   },
   "outputs": [],
   "source": [
    "def csr_matrix_from_raw_data(raw_data):\n",
    "    feature_names = set([get_feature_name(key_value) for row in raw_data for key_value in row[2:]])\n",
    "    fnames_to_i = dict(zip(list(feature_names), range(len(feature_names))))\n",
    "    \n",
    "    row = [ [i] * (len(raw_row) - 2) for (i,raw_row) in zip(range(len(raw_data)), raw_data) ]\n",
    "    row = np.array([i for r in row for i in r])\n",
    "\n",
    "    col = np.array([ fnames_to_i[get_feature_name(kv)] for row in raw_data for kv in row[2:] ])\n",
    "\n",
    "    flatten_data = np.array([float(get_feature_value(kv)) for row in raw_data for kv in row[2:]])\n",
    "    \n",
    "    return csr_matrix( (flatten_data, (row,col)) )"
   ]
  },
  {
   "cell_type": "code",
   "execution_count": 6,
   "metadata": {
    "collapsed": true
   },
   "outputs": [],
   "source": [
    "X = csr_matrix_from_raw_data(raw_data)"
   ]
  },
  {
   "cell_type": "markdown",
   "metadata": {},
   "source": [
    "# Предсказание пола\n",
    "\n",
    "Для того, чтобы решить для себя какую метрику качества разумно использовать в данном случае, посмотрим на пропорции разных классов в наших данных.\n",
    "\n",
    "Мы видим, что пропорции классов не равны, поэтому мы будем использовать ```AUC PR```, а не, например, ```accuracy```.\n",
    "\n",
    "По этой же самой причине при разбиении данных на ```train``` и ```test``` мы будем использовать стратифицированное разбиение для того, чтобы в данных ```test``` пропорции классов совпадали с пропорциями в ```train```."
   ]
  },
  {
   "cell_type": "code",
   "execution_count": 7,
   "metadata": {
    "collapsed": false
   },
   "outputs": [
    {
     "name": "stdout",
     "output_type": "stream",
     "text": [
      "57302 92698 0.618157889059\n"
     ]
    }
   ],
   "source": [
    "P = sum(Y_sex)\n",
    "N = len(Y_sex) - P\n",
    "print (P, N, P/N)"
   ]
  },
  {
   "cell_type": "code",
   "execution_count": 7,
   "metadata": {
    "collapsed": true
   },
   "outputs": [],
   "source": [
    "from sklearn.model_selection import train_test_split\n",
    "\n",
    "\n",
    "X_train, X_test, y_train, y_test = train_test_split(X, Y_sex,\n",
    "                                                    stratify=Y_sex, \n",
    "                                                    test_size=0.2, \n",
    "                                                    random_state=42)"
   ]
  },
  {
   "cell_type": "code",
   "execution_count": 8,
   "metadata": {
    "collapsed": false
   },
   "outputs": [],
   "source": [
    "from sklearn.metrics import average_precision_score\n",
    "from sklearn.metrics import precision_recall_curve\n",
    "import matplotlib.pyplot as plt\n",
    "\n",
    "\n",
    "def AUC_PR(score_fun, X=X_test, y=y_test, show_curve=False):\n",
    "    y_score = score_fun(X)\n",
    "    average_precision = average_precision_score(y, y_score)\n",
    "\n",
    "    if show_curve:\n",
    "        precision, recall, _ = precision_recall_curve(y, y_score)\n",
    "\n",
    "        plt.step(recall, precision, color='b', alpha=0.2,\n",
    "                 where='post')\n",
    "        plt.fill_between(recall, precision, step='post', alpha=0.2,\n",
    "                         color='b')\n",
    "\n",
    "        plt.xlabel('Recall')\n",
    "        plt.ylabel('Precision')\n",
    "        plt.ylim([0.0, 1.05])\n",
    "        plt.xlim([0.0, 1.0])\n",
    "        plt.title('2-class Precision-Recall curve: AUC={0:0.2f}'.format(\n",
    "                  average_precision))\n",
    "    \n",
    "    return average_precision"
   ]
  },
  {
   "cell_type": "markdown",
   "metadata": {},
   "source": [
    "Рассмотрим три базовые модели, на которые мы будем далее опираться и которые будем улучшать."
   ]
  },
  {
   "cell_type": "markdown",
   "metadata": {},
   "source": [
    "## Модель 1\n",
    "### Логистическая регрессия"
   ]
  },
  {
   "cell_type": "code",
   "execution_count": 9,
   "metadata": {
    "collapsed": false
   },
   "outputs": [],
   "source": [
    "from sklearn import linear_model\n",
    "\n",
    "\n",
    "def model1(params, X=X_train, y=y_train):\n",
    "    logreg_clf = linear_model.LogisticRegression(**params)\n",
    "    logreg_clf.fit(X, y)\n",
    "    \n",
    "    return logreg_clf"
   ]
  },
  {
   "cell_type": "code",
   "execution_count": 14,
   "metadata": {
    "collapsed": false
   },
   "outputs": [
    {
     "name": "stdout",
     "output_type": "stream",
     "text": [
      "0.631858542444\n"
     ]
    }
   ],
   "source": [
    "params = {\n",
    "    'random_state':42,\n",
    "    'penalty':'l2'\n",
    "}\n",
    "\n",
    "clf1 = model1(params)\n",
    "print(AUC_PR(clf1.decision_function))"
   ]
  },
  {
   "cell_type": "markdown",
   "metadata": {},
   "source": [
    "### Логистическая регрессия с $L_1$ регуляризатором"
   ]
  },
  {
   "cell_type": "code",
   "execution_count": 15,
   "metadata": {
    "collapsed": false
   },
   "outputs": [
    {
     "name": "stdout",
     "output_type": "stream",
     "text": [
      "0.581064525315\n"
     ]
    }
   ],
   "source": [
    "params = {\n",
    "    'random_state':42,\n",
    "    'penalty':'l1'\n",
    "}\n",
    "\n",
    "clf1 = model1(params)\n",
    "print(AUC_PR(clf1.decision_function))"
   ]
  },
  {
   "cell_type": "markdown",
   "metadata": {},
   "source": [
    "Результаты не очень хорошие, поэтому далее мы не будем использовать данную модель."
   ]
  },
  {
   "cell_type": "markdown",
   "metadata": {},
   "source": [
    "## Модель 2\n",
    "### SVM\n",
    "\n",
    "Время обучения ```SVM``` значительно больше, чем время обучения логистической регрессии при этом результаты хуже."
   ]
  },
  {
   "cell_type": "code",
   "execution_count": 16,
   "metadata": {
    "collapsed": false
   },
   "outputs": [],
   "source": [
    "from sklearn import svm\n",
    "\n",
    "\n",
    "def model2(params, X=X_train, y=y_train):\n",
    "    svc_clf = svm.SVC(**params)\n",
    "    svc_clf.fit(X, y)\n",
    "\n",
    "    return svc_clf"
   ]
  },
  {
   "cell_type": "code",
   "execution_count": 14,
   "metadata": {
    "collapsed": false
   },
   "outputs": [
    {
     "name": "stdout",
     "output_type": "stream",
     "text": [
      "0.618983912012\n"
     ]
    }
   ],
   "source": [
    "params = {\n",
    "    \n",
    "}\n",
    "\n",
    "clf2 = model2(params)\n",
    "print(AUC_PR(clf2.decision_function))"
   ]
  },
  {
   "cell_type": "markdown",
   "metadata": {},
   "source": [
    "## Модель 3\n",
    "### Градиентный Бустинг"
   ]
  },
  {
   "cell_type": "code",
   "execution_count": 10,
   "metadata": {
    "collapsed": false
   },
   "outputs": [],
   "source": [
    "import xgboost as xgb\n",
    "\n",
    "\n",
    "def model3(params,X=X_train, y=y_train):\n",
    "    xgb_clf = xgb.XGBClassifier(**params)\n",
    "    xgb_clf.fit(X, y)\n",
    "    \n",
    "    return xgb_clf"
   ]
  },
  {
   "cell_type": "code",
   "execution_count": 24,
   "metadata": {
    "collapsed": false
   },
   "outputs": [],
   "source": [
    "params = {\n",
    "    \n",
    "}\n",
    "\n",
    "clf3 = model3(params)"
   ]
  },
  {
   "cell_type": "code",
   "execution_count": 34,
   "metadata": {
    "collapsed": false
   },
   "outputs": [
    {
     "name": "stdout",
     "output_type": "stream",
     "text": [
      "0.697585181374\n"
     ]
    }
   ],
   "source": [
    "def prob(X, clf):\n",
    "    return clf.predict_proba(X)[:,1]\n",
    "\n",
    "print(AUC_PR(lambda X: prob(X, clf3)))"
   ]
  },
  {
   "cell_type": "markdown",
   "metadata": {},
   "source": [
    "Мы обучили три модели на необработанных данных. Ниже приведена таблица со значением метрики для каждой модели:\n",
    "\n",
    "| LogReg | SVM   | XGB   |\n",
    "|------|------|------|\n",
    "|   0.63  | 0.62| 0.70|\n",
    "\n",
    "Мы могли бы попробовать использовать и другие методы обучения, но не будем этого делать."
   ]
  },
  {
   "cell_type": "markdown",
   "metadata": {},
   "source": [
    "## Scaling\n",
    "\n",
    "Мы знаем, что в ряде случаев методы работают лучше, если предварительно был выполнен ```scaling``` данных.\n",
    "Поэтому мы выполним данное преобразование, которое не приведет к нарушению разреженности в данных."
   ]
  },
  {
   "cell_type": "code",
   "execution_count": 11,
   "metadata": {
    "collapsed": false
   },
   "outputs": [],
   "source": [
    "from sklearn.preprocessing import maxabs_scale\n",
    "\n",
    "\n",
    "X_train_scaled = maxabs_scale(X_train, copy=True)\n",
    "X_test_scaled = maxabs_scale(X_test, copy=True)"
   ]
  },
  {
   "cell_type": "markdown",
   "metadata": {},
   "source": [
    "После того как мы выполнили масштабирование данных, мы можем попробовать обучить на них модели, о которых мы говорили ранее, например, логистическую регрессию.\n",
    "\n",
    "### Модель 1.2\n",
    "\n",
    "Как видно из результатов, данный классификатор лучше предыдущего."
   ]
  },
  {
   "cell_type": "code",
   "execution_count": 32,
   "metadata": {
    "collapsed": false
   },
   "outputs": [
    {
     "name": "stdout",
     "output_type": "stream",
     "text": [
      "0.672745791493\n"
     ]
    }
   ],
   "source": [
    "params = {\n",
    "    'random_state':42,\n",
    "    'penalty':'l2'\n",
    "}\n",
    "\n",
    "clf1 = model1(params, X=X_train_scaled)\n",
    "print(AUC_PR(clf1.decision_function, X=X_test_scaled))"
   ]
  },
  {
   "cell_type": "markdown",
   "metadata": {},
   "source": [
    "### Модель 2.2"
   ]
  },
  {
   "cell_type": "code",
   "execution_count": 33,
   "metadata": {
    "collapsed": true
   },
   "outputs": [],
   "source": [
    "from sklearn.calibration import CalibratedClassifierCV\n",
    "\n",
    "\n",
    "def model2_2(params, X=X_train, y=y_train):\n",
    "    l_svc = svm.LinearSVC(**params)\n",
    "    clf = CalibratedClassifierCV(l_svc) \n",
    "    clf.fit(X, y)\n",
    "    \n",
    "    return clf"
   ]
  },
  {
   "cell_type": "code",
   "execution_count": 35,
   "metadata": {
    "collapsed": true
   },
   "outputs": [],
   "source": [
    "clf2 = model2_2({}, X=X_train_scaled)"
   ]
  },
  {
   "cell_type": "code",
   "execution_count": 36,
   "metadata": {
    "collapsed": false
   },
   "outputs": [
    {
     "name": "stdout",
     "output_type": "stream",
     "text": [
      "0.647538681012\n"
     ]
    }
   ],
   "source": [
    "print(AUC_PR(lambda X: prob(X, clf2), X=X_test_scaled))"
   ]
  },
  {
   "cell_type": "markdown",
   "metadata": {},
   "source": [
    "### Модель 3.2"
   ]
  },
  {
   "cell_type": "code",
   "execution_count": 38,
   "metadata": {
    "collapsed": false
   },
   "outputs": [
    {
     "name": "stdout",
     "output_type": "stream",
     "text": [
      "0.696943773834\n"
     ]
    }
   ],
   "source": [
    "clf3 = model3({}, X_train_scaled)\n",
    "print(AUC_PR(lambda X: prob(X, clf3), X=X_test_scaled))"
   ]
  },
  {
   "cell_type": "markdown",
   "metadata": {},
   "source": [
    "Результаты тестирования при обучении на масштабированных данных:\n",
    "\n",
    "| LogReg | SVM   | XGB   |\n",
    "|------|------|------|\n",
    "|   0.67  | 0.65| 0.70|\n",
    "\n",
    "Сравнивая данную таблицу с предыдущей можно сказать, что ```scaling``` положительно повлиял на логистическую регрессию, но не оказал влияния на градиентный бустинг."
   ]
  },
  {
   "cell_type": "markdown",
   "metadata": {},
   "source": [
    "## Aggregation\n",
    "\n",
    "Из описания данных мы можем видеть, что тематические фичи описывают то, как сильно пользователь заинтерисован в той или иной тематики, и тематики образуют таксономии. \n",
    "\n",
    "Возможно, имеет смысл  агрегировать информацию о заинтерисованости пользователя в тематиках из одной и той же таксономии. Это как минимум позволит уменьшить размерность данных."
   ]
  },
  {
   "cell_type": "code",
   "execution_count": 39,
   "metadata": {
    "collapsed": true
   },
   "outputs": [],
   "source": [
    "thematic_names = set([get_feature_name(key_value) \n",
    "                     for row in raw_data for key_value in row[2:] if key_value.startswith('thematic')]\n",
    "                   )"
   ]
  },
  {
   "cell_type": "code",
   "execution_count": 40,
   "metadata": {
    "collapsed": false
   },
   "outputs": [
    {
     "name": "stdout",
     "output_type": "stream",
     "text": [
      "4052\n"
     ]
    }
   ],
   "source": [
    "print(len(thematic_names))"
   ]
  },
  {
   "cell_type": "code",
   "execution_count": 41,
   "metadata": {
    "collapsed": true
   },
   "outputs": [],
   "source": [
    "def get_taxonomy_name(tn):\n",
    "    return get_feature_name(tn).split('_')[0]\n",
    "\n",
    "taxonomy_names = set([ get_taxonomy_name(tn) for tn in thematic_names])"
   ]
  },
  {
   "cell_type": "code",
   "execution_count": 42,
   "metadata": {
    "collapsed": false
   },
   "outputs": [
    {
     "name": "stdout",
     "output_type": "stream",
     "text": [
      "{'thematic21', 'thematic5', 'thematic1', 'thematic4', 'thematic0', 'thematic3', 'thematic6'}\n"
     ]
    }
   ],
   "source": [
    "print(taxonomy_names)"
   ]
  },
  {
   "cell_type": "markdown",
   "metadata": {},
   "source": [
    "Представленный ниже метод для трансформирования строк выполняет агрегацию информации для фичей из одной таксномии. Например, можно выполнять агрегацию вычисляя максимум или среднее арифмитическое."
   ]
  },
  {
   "cell_type": "code",
   "execution_count": 43,
   "metadata": {
    "collapsed": true
   },
   "outputs": [],
   "source": [
    "def row_transform(row, aggregation_fn=max):\n",
    "    r = []\n",
    "    taxonomy_values = dict.fromkeys(taxonomy_names)\n",
    "    for kv in row:\n",
    "        if not kv.startswith('thematic'):\n",
    "            r.append(kv)\n",
    "        else:\n",
    "            taxonomy = get_taxonomy_name(kv)\n",
    "            if taxonomy_values.get(taxonomy, None) is None:\n",
    "                taxonomy_values[taxonomy] = []\n",
    "            taxonomy_values[taxonomy].append(float(get_feature_value(kv)))\n",
    "    \n",
    "    for (taxomony, values) in taxonomy_values.items():\n",
    "        if values is not None:\n",
    "            r.append(str(taxomony) + '#' + str(aggregation_fn(values)))\n",
    "    \n",
    "    return r"
   ]
  },
  {
   "cell_type": "code",
   "execution_count": 44,
   "metadata": {
    "collapsed": false
   },
   "outputs": [],
   "source": [
    "def raw_data_transform(raw_data):\n",
    "    return [row_transform(row) for row in raw_data]"
   ]
  },
  {
   "cell_type": "markdown",
   "metadata": {},
   "source": [
    "Строим новые данные для обучения и тестирования моделей"
   ]
  },
  {
   "cell_type": "code",
   "execution_count": 45,
   "metadata": {
    "collapsed": true
   },
   "outputs": [],
   "source": [
    "X_agg = csr_matrix_from_raw_data(raw_data_transform(raw_data))"
   ]
  },
  {
   "cell_type": "code",
   "execution_count": 46,
   "metadata": {
    "collapsed": true
   },
   "outputs": [],
   "source": [
    "X_train_agg, X_test_agg, y_train_agg, y_test_agg = train_test_split(X_agg, Y_sex, \n",
    "                                                                    stratify=Y_sex, \n",
    "                                                                    test_size=0.2, \n",
    "                                                                    random_state=42)"
   ]
  },
  {
   "cell_type": "markdown",
   "metadata": {},
   "source": [
    "### Модель 1.3"
   ]
  },
  {
   "cell_type": "code",
   "execution_count": 47,
   "metadata": {
    "collapsed": false
   },
   "outputs": [
    {
     "name": "stdout",
     "output_type": "stream",
     "text": [
      "0.626519473601\n"
     ]
    }
   ],
   "source": [
    "params = {\n",
    "    'random_state':42,\n",
    "    'penalty':'l2'\n",
    "}\n",
    "\n",
    "clf1 = model1(params, X_train_agg, y_train_agg)\n",
    "print(AUC_PR(clf1.decision_function, X_test_agg, y_test_agg))"
   ]
  },
  {
   "cell_type": "code",
   "execution_count": 48,
   "metadata": {
    "collapsed": true
   },
   "outputs": [],
   "source": [
    "X_train_agg_scaled = maxabs_scale(X_train_agg, copy=True)\n",
    "X_test_agg_scaled = maxabs_scale(X_test_agg, copy=True)"
   ]
  },
  {
   "cell_type": "code",
   "execution_count": 49,
   "metadata": {
    "collapsed": false
   },
   "outputs": [
    {
     "name": "stdout",
     "output_type": "stream",
     "text": [
      "0.650514072351\n"
     ]
    }
   ],
   "source": [
    "params = {\n",
    "    'random_state':42,\n",
    "    'penalty':'l2'\n",
    "}\n",
    "\n",
    "clf1 = model1(params, X_train_agg_scaled, y_train_agg)\n",
    "print(AUC_PR(clf1.decision_function, X_test_agg_scaled, y_test_agg))"
   ]
  },
  {
   "cell_type": "markdown",
   "metadata": {},
   "source": [
    "### Модель 2.3"
   ]
  },
  {
   "cell_type": "code",
   "execution_count": 50,
   "metadata": {
    "collapsed": false
   },
   "outputs": [
    {
     "name": "stdout",
     "output_type": "stream",
     "text": [
      "0.635549889895\n"
     ]
    }
   ],
   "source": [
    "clf2 = model2_2({}, X_train_agg_scaled, y_train_agg)\n",
    "print(AUC_PR(lambda X: prob(X, clf2), X_test_agg_scaled, y_test_agg))"
   ]
  },
  {
   "cell_type": "markdown",
   "metadata": {},
   "source": [
    "### Модель 3.3"
   ]
  },
  {
   "cell_type": "code",
   "execution_count": 51,
   "metadata": {
    "collapsed": false
   },
   "outputs": [
    {
     "name": "stdout",
     "output_type": "stream",
     "text": [
      "0.663203094515\n"
     ]
    }
   ],
   "source": [
    "clf3 = model3({}, X_train_agg_scaled, y_train_agg)\n",
    "print(AUC_PR(lambda X: prob(X, clf3), X_test_agg_scaled, y_test_agg))"
   ]
  },
  {
   "cell_type": "markdown",
   "metadata": {},
   "source": [
    "<b>Вывод:</b> смотря на результаты можно сказать, что получилось уменьшить размерность (пусть и незначительно), но с  потерями для качества классификации (XGB сильно потерял в качестве). Следовательно, подобный способ агрегации лучше не использовать."
   ]
  },
  {
   "cell_type": "markdown",
   "metadata": {},
   "source": [
    "## Outliers Detection\n",
    "\n",
    "Попробуем обнаружить в данных выбросы (если они есть) и избавиться от них.\n",
    "\n",
    "Для обнаружения выбросов будем использовать, например, ```IsolationForest```."
   ]
  },
  {
   "cell_type": "code",
   "execution_count": 12,
   "metadata": {
    "collapsed": false
   },
   "outputs": [
    {
     "data": {
      "text/plain": [
       "IsolationForest(bootstrap=False, contamination=0.1, max_features=1.0,\n",
       "        max_samples='auto', n_estimators=100, n_jobs=1, random_state=42,\n",
       "        verbose=0)"
      ]
     },
     "execution_count": 12,
     "metadata": {},
     "output_type": "execute_result"
    }
   ],
   "source": [
    "from sklearn.ensemble import IsolationForest\n",
    "\n",
    "\n",
    "clf = IsolationForest(random_state=42)\n",
    "clf.fit(X, Y_sex)"
   ]
  },
  {
   "cell_type": "code",
   "execution_count": 13,
   "metadata": {
    "collapsed": true
   },
   "outputs": [],
   "source": [
    "y_pred = clf.predict(X)"
   ]
  },
  {
   "cell_type": "markdown",
   "metadata": {},
   "source": [
    "Посмотрим на долю выбросов в исходных данных. Классификатор говорит нам, что доля выбросов - 10%."
   ]
  },
  {
   "cell_type": "code",
   "execution_count": 54,
   "metadata": {
    "collapsed": false
   },
   "outputs": [
    {
     "name": "stdout",
     "output_type": "stream",
     "text": [
      "150000 15000\n"
     ]
    }
   ],
   "source": [
    "print(len(y_pred), len([_ for label in y_pred if label == -1]))"
   ]
  },
  {
   "cell_type": "code",
   "execution_count": 14,
   "metadata": {
    "collapsed": true
   },
   "outputs": [],
   "source": [
    "def raw_data_without_outliers(raw_data, y_pred):\n",
    "    return [row for (row, inlier) in zip(raw_data, y_pred) if inlier == 1]"
   ]
  },
  {
   "cell_type": "code",
   "execution_count": 15,
   "metadata": {
    "collapsed": false
   },
   "outputs": [],
   "source": [
    "Y_sex_inliers = [sex for (sex, inlier) in zip(Y_sex, y_pred) if inlier == 1]"
   ]
  },
  {
   "cell_type": "markdown",
   "metadata": {},
   "source": [
    "Новые данные без выбросов"
   ]
  },
  {
   "cell_type": "code",
   "execution_count": 16,
   "metadata": {
    "collapsed": true
   },
   "outputs": [],
   "source": [
    "X_inliers = csr_matrix_from_raw_data(raw_data_without_outliers(raw_data, y_pred))"
   ]
  },
  {
   "cell_type": "code",
   "execution_count": 17,
   "metadata": {
    "collapsed": false
   },
   "outputs": [],
   "source": [
    "X_train_in, X_test_in, y_train_in, y_test_in = train_test_split(X_inliers, Y_sex_inliers, \n",
    "                                                                    stratify=Y_sex_inliers, \n",
    "                                                                    test_size=0.2, \n",
    "                                                                    random_state=42)"
   ]
  },
  {
   "cell_type": "markdown",
   "metadata": {},
   "source": [
    "### Модель 1.4"
   ]
  },
  {
   "cell_type": "code",
   "execution_count": 59,
   "metadata": {
    "collapsed": false
   },
   "outputs": [
    {
     "name": "stdout",
     "output_type": "stream",
     "text": [
      "0.64024587942\n"
     ]
    }
   ],
   "source": [
    "params = {\n",
    "    'random_state':42,\n",
    "    'penalty':'l2'\n",
    "}\n",
    "\n",
    "clf1 = model1(params, X_train_in, y_train_in)\n",
    "print(AUC_PR(clf1.decision_function, X_test_in, y_test_in))"
   ]
  },
  {
   "cell_type": "code",
   "execution_count": 18,
   "metadata": {
    "collapsed": true
   },
   "outputs": [],
   "source": [
    "X_train_in_scaled = maxabs_scale(X_train_in, copy=True)\n",
    "X_test_in_scaled = maxabs_scale(X_test_in, copy=True)"
   ]
  },
  {
   "cell_type": "code",
   "execution_count": 61,
   "metadata": {
    "collapsed": false
   },
   "outputs": [
    {
     "name": "stdout",
     "output_type": "stream",
     "text": [
      "0.669746064785\n"
     ]
    }
   ],
   "source": [
    "params = {\n",
    "    'random_state':42,\n",
    "    'penalty':'l2'\n",
    "}\n",
    "\n",
    "clf1 = model1(params, X_train_in_scaled, y_train_in)\n",
    "print(AUC_PR(clf1.decision_function, X_test_in_scaled, y_test_in))"
   ]
  },
  {
   "cell_type": "markdown",
   "metadata": {},
   "source": [
    "### Модель 2.4"
   ]
  },
  {
   "cell_type": "code",
   "execution_count": 62,
   "metadata": {
    "collapsed": false
   },
   "outputs": [
    {
     "name": "stdout",
     "output_type": "stream",
     "text": [
      "0.64085658352\n"
     ]
    }
   ],
   "source": [
    "clf2 = model2_2({}, X_train_in_scaled, y_train_in)\n",
    "print(AUC_PR(lambda X: prob(X, clf2), X_test_in_scaled, y_test_in))"
   ]
  },
  {
   "cell_type": "markdown",
   "metadata": {},
   "source": [
    "### Модель 3.4"
   ]
  },
  {
   "cell_type": "code",
   "execution_count": 63,
   "metadata": {
    "collapsed": false
   },
   "outputs": [
    {
     "name": "stdout",
     "output_type": "stream",
     "text": [
      "0.68928802493\n"
     ]
    }
   ],
   "source": [
    "clf3 = model3({}, X_train_in_scaled, y_train_in)\n",
    "print(AUC_PR(lambda X: prob(X, clf3), X_test_in_scaled, y_test_in))"
   ]
  },
  {
   "cell_type": "markdown",
   "metadata": {},
   "source": [
    "| LogReg | SVM   | XGB   |\n",
    "|------|------|------|\n",
    "|   0.67  | 0.64| 0.69|\n",
    "\n",
    "<b>Вывод:</b> сравнивая таблицу результатов с таблицей из раздела ```Scaling``` видно, что поиск выбросов немного ухудшил качество предсказаний."
   ]
  },
  {
   "cell_type": "markdown",
   "metadata": {},
   "source": [
    "## Parameters Tuning\n",
    "\n",
    "Попробуем выполнить оптимизацию гиперпараметров для классификаторов, которые будут обучаться на полученных ранее данных.\n",
    "\n",
    "Для тюнинга гиперпараметров воспользуемся поиском по сетке."
   ]
  },
  {
   "cell_type": "code",
   "execution_count": 19,
   "metadata": {
    "collapsed": true
   },
   "outputs": [],
   "source": [
    "from sklearn.model_selection import GridSearchCV\n",
    "\n",
    "\n",
    "def auc_pr_score(estimator, X, y):\n",
    "    return AUC_PR(lambda X: prob(X, estimator), X, y)\n",
    "    \n",
    "def GS(clf, p_grid, X=X_train_in_scaled, y=y_train_in):\n",
    "    gsearch = GridSearchCV(estimator=clf, \n",
    "                           param_grid=p_grid, \n",
    "                           scoring=auc_pr_score, \n",
    "                           n_jobs=1, \n",
    "                           iid=False, \n",
    "                           cv=3, \n",
    "                           error_score=0)\n",
    "\n",
    "    gsearch.fit(X, y)\n",
    "\n",
    "    return gsearch.grid_scores_, gsearch.best_params_, gsearch.best_score_"
   ]
  },
  {
   "cell_type": "markdown",
   "metadata": {},
   "source": [
    "### XGB\n",
    "Займемся оптимизацией гиперпараметров для ```XGB``` классификатора. \n",
    "\n",
    "Для начала попробуем найти подходящее значение для параметра ```n_estimators```. "
   ]
  },
  {
   "cell_type": "code",
   "execution_count": 68,
   "metadata": {
    "collapsed": false
   },
   "outputs": [
    {
     "name": "stdout",
     "output_type": "stream",
     "text": [
      "[mean: 0.69402, std: 0.00386, params: {'n_estimators': 100}, mean: 0.70212, std: 0.00369, params: {'n_estimators': 150}, mean: 0.70718, std: 0.00395, params: {'n_estimators': 200}, mean: 0.71088, std: 0.00413, params: {'n_estimators': 250}] {'n_estimators': 250} 0.71088109191\n"
     ]
    },
    {
     "name": "stderr",
     "output_type": "stream",
     "text": [
      "/home/austud/.local/lib/python3.5/site-packages/sklearn/model_selection/_search.py:662: DeprecationWarning: The grid_scores_ attribute was deprecated in version 0.18 in favor of the more elaborate cv_results_ attribute. The grid_scores_ attribute will not be available from 0.20\n",
      "  DeprecationWarning)\n"
     ]
    }
   ],
   "source": [
    "param_grid1 = {\n",
    "    'n_estimators':range(100,300,50)\n",
    "}\n",
    "    \n",
    "gs, bp, bs = GS(xgb.XGBClassifier(random_state=42), param_grid1)\n",
    "print(gs, bp, bs)"
   ]
  },
  {
   "cell_type": "code",
   "execution_count": 72,
   "metadata": {
    "collapsed": false
   },
   "outputs": [
    {
     "name": "stdout",
     "output_type": "stream",
     "text": [
      "[mean: 0.71088, std: 0.00413, params: {'min_child_weight': 1, 'max_depth': 3}, mean: 0.71043, std: 0.00386, params: {'min_child_weight': 3, 'max_depth': 3}, mean: 0.71081, std: 0.00421, params: {'min_child_weight': 5, 'max_depth': 3}, mean: 0.71762, std: 0.00303, params: {'min_child_weight': 1, 'max_depth': 5}, mean: 0.71737, std: 0.00323, params: {'min_child_weight': 3, 'max_depth': 5}, mean: 0.71797, std: 0.00352, params: {'min_child_weight': 5, 'max_depth': 5}, mean: 0.72022, std: 0.00305, params: {'min_child_weight': 1, 'max_depth': 7}, mean: 0.71997, std: 0.00300, params: {'min_child_weight': 3, 'max_depth': 7}, mean: 0.72123, std: 0.00304, params: {'min_child_weight': 5, 'max_depth': 7}, mean: 0.72176, std: 0.00310, params: {'min_child_weight': 1, 'max_depth': 9}, mean: 0.72162, std: 0.00286, params: {'min_child_weight': 3, 'max_depth': 9}, mean: 0.72332, std: 0.00345, params: {'min_child_weight': 5, 'max_depth': 9}] {'min_child_weight': 5, 'max_depth': 9} 0.723318847435\n"
     ]
    },
    {
     "name": "stderr",
     "output_type": "stream",
     "text": [
      "/home/austud/.local/lib/python3.5/site-packages/sklearn/model_selection/_search.py:662: DeprecationWarning: The grid_scores_ attribute was deprecated in version 0.18 in favor of the more elaborate cv_results_ attribute. The grid_scores_ attribute will not be available from 0.20\n",
      "  DeprecationWarning)\n"
     ]
    }
   ],
   "source": [
    "param_grid2 = {\n",
    "    'max_depth':range(3,10,2),\n",
    "    'min_child_weight':range(1,6,2)\n",
    "}\n",
    "\n",
    "gs, bp, bs = GS(xgb.XGBClassifier(random_state=42, n_estimators=250), param_grid2)\n",
    "print(gs, bp, bs)"
   ]
  },
  {
   "cell_type": "code",
   "execution_count": 73,
   "metadata": {
    "collapsed": false
   },
   "outputs": [
    {
     "name": "stdout",
     "output_type": "stream",
     "text": [
      "[mean: 0.72332, std: 0.00345, params: {'min_child_weight': 5}, mean: 0.72269, std: 0.00323, params: {'min_child_weight': 7}, mean: 0.72349, std: 0.00401, params: {'min_child_weight': 9}] {'min_child_weight': 9} 0.723488825938\n"
     ]
    },
    {
     "name": "stderr",
     "output_type": "stream",
     "text": [
      "/home/austud/.local/lib/python3.5/site-packages/sklearn/model_selection/_search.py:662: DeprecationWarning: The grid_scores_ attribute was deprecated in version 0.18 in favor of the more elaborate cv_results_ attribute. The grid_scores_ attribute will not be available from 0.20\n",
      "  DeprecationWarning)\n"
     ]
    }
   ],
   "source": [
    "param_grid3 = {\n",
    "    'min_child_weight':[5,7,9]\n",
    "}\n",
    "\n",
    "gs, bp, bs = GS(xgb.XGBClassifier(random_state=42, n_estimators=250, max_depth=9), param_grid3)\n",
    "print(gs, bp, bs)"
   ]
  },
  {
   "cell_type": "code",
   "execution_count": 87,
   "metadata": {
    "collapsed": false
   },
   "outputs": [
    {
     "name": "stderr",
     "output_type": "stream",
     "text": [
      "/home/austud/anaconda3/lib/python3.5/site-packages/xgboost-0.6-py3.5.egg/xgboost/sklearn.py:203: DeprecationWarning: The seed parameter is deprecated as of version .6.Please use random_state instead.seed is deprecated.\n",
      "  'seed is deprecated.', DeprecationWarning)\n",
      "/home/austud/anaconda3/lib/python3.5/site-packages/xgboost-0.6-py3.5.egg/xgboost/sklearn.py:203: DeprecationWarning: The seed parameter is deprecated as of version .6.Please use random_state instead.seed is deprecated.\n",
      "  'seed is deprecated.', DeprecationWarning)\n",
      "/home/austud/anaconda3/lib/python3.5/site-packages/xgboost-0.6-py3.5.egg/xgboost/sklearn.py:203: DeprecationWarning: The seed parameter is deprecated as of version .6.Please use random_state instead.seed is deprecated.\n",
      "  'seed is deprecated.', DeprecationWarning)\n",
      "/home/austud/anaconda3/lib/python3.5/site-packages/xgboost-0.6-py3.5.egg/xgboost/sklearn.py:203: DeprecationWarning: The seed parameter is deprecated as of version .6.Please use random_state instead.seed is deprecated.\n",
      "  'seed is deprecated.', DeprecationWarning)\n",
      "/home/austud/anaconda3/lib/python3.5/site-packages/xgboost-0.6-py3.5.egg/xgboost/sklearn.py:203: DeprecationWarning: The seed parameter is deprecated as of version .6.Please use random_state instead.seed is deprecated.\n",
      "  'seed is deprecated.', DeprecationWarning)\n",
      "/home/austud/anaconda3/lib/python3.5/site-packages/xgboost-0.6-py3.5.egg/xgboost/sklearn.py:203: DeprecationWarning: The seed parameter is deprecated as of version .6.Please use random_state instead.seed is deprecated.\n",
      "  'seed is deprecated.', DeprecationWarning)\n",
      "/home/austud/anaconda3/lib/python3.5/site-packages/xgboost-0.6-py3.5.egg/xgboost/sklearn.py:203: DeprecationWarning: The seed parameter is deprecated as of version .6.Please use random_state instead.seed is deprecated.\n",
      "  'seed is deprecated.', DeprecationWarning)\n",
      "/home/austud/anaconda3/lib/python3.5/site-packages/xgboost-0.6-py3.5.egg/xgboost/sklearn.py:203: DeprecationWarning: The seed parameter is deprecated as of version .6.Please use random_state instead.seed is deprecated.\n",
      "  'seed is deprecated.', DeprecationWarning)\n",
      "/home/austud/anaconda3/lib/python3.5/site-packages/xgboost-0.6-py3.5.egg/xgboost/sklearn.py:203: DeprecationWarning: The seed parameter is deprecated as of version .6.Please use random_state instead.seed is deprecated.\n",
      "  'seed is deprecated.', DeprecationWarning)\n",
      "/home/austud/anaconda3/lib/python3.5/site-packages/xgboost-0.6-py3.5.egg/xgboost/sklearn.py:203: DeprecationWarning: The seed parameter is deprecated as of version .6.Please use random_state instead.seed is deprecated.\n",
      "  'seed is deprecated.', DeprecationWarning)\n",
      "/home/austud/anaconda3/lib/python3.5/site-packages/xgboost-0.6-py3.5.egg/xgboost/sklearn.py:203: DeprecationWarning: The seed parameter is deprecated as of version .6.Please use random_state instead.seed is deprecated.\n",
      "  'seed is deprecated.', DeprecationWarning)\n",
      "/home/austud/anaconda3/lib/python3.5/site-packages/xgboost-0.6-py3.5.egg/xgboost/sklearn.py:203: DeprecationWarning: The seed parameter is deprecated as of version .6.Please use random_state instead.seed is deprecated.\n",
      "  'seed is deprecated.', DeprecationWarning)\n",
      "/home/austud/anaconda3/lib/python3.5/site-packages/xgboost-0.6-py3.5.egg/xgboost/sklearn.py:203: DeprecationWarning: The seed parameter is deprecated as of version .6.Please use random_state instead.seed is deprecated.\n",
      "  'seed is deprecated.', DeprecationWarning)\n"
     ]
    },
    {
     "name": "stdout",
     "output_type": "stream",
     "text": [
      "[mean: 0.72422, std: 0.00382, params: {'subsample': 0.6}, mean: 0.72413, std: 0.00365, params: {'subsample': 0.7}, mean: 0.72451, std: 0.00403, params: {'subsample': 0.8}, mean: 0.72407, std: 0.00346, params: {'subsample': 0.9}] {'subsample': 0.8} 0.72451005684\n"
     ]
    },
    {
     "name": "stderr",
     "output_type": "stream",
     "text": [
      "/home/austud/.local/lib/python3.5/site-packages/sklearn/model_selection/_search.py:662: DeprecationWarning: The grid_scores_ attribute was deprecated in version 0.18 in favor of the more elaborate cv_results_ attribute. The grid_scores_ attribute will not be available from 0.20\n",
      "  DeprecationWarning)\n"
     ]
    }
   ],
   "source": [
    "param_grid4 = {\n",
    "    'subsample':[0.6, 0.7, 0.8, 0.9]\n",
    "}\n",
    "\n",
    "gs, bp, bs = GS(xgb.XGBClassifier(random_state=42, n_estimators=250, max_depth=9, min_child_weight=9), param_grid4)\n",
    "print(gs, bp, bs)"
   ]
  },
  {
   "cell_type": "code",
   "execution_count": 96,
   "metadata": {
    "collapsed": false
   },
   "outputs": [
    {
     "name": "stdout",
     "output_type": "stream",
     "text": [
      "[mean: 0.72519, std: 0.00359, params: {'colsample_bytree': 0.6}, mean: 0.72487, std: 0.00370, params: {'colsample_bytree': 0.7}, mean: 0.72467, std: 0.00336, params: {'colsample_bytree': 0.8}, mean: 0.72447, std: 0.00318, params: {'colsample_bytree': 0.9}] {'colsample_bytree': 0.6} 0.725194074128\n"
     ]
    },
    {
     "name": "stderr",
     "output_type": "stream",
     "text": [
      "/home/austud/.local/lib/python3.5/site-packages/sklearn/model_selection/_search.py:662: DeprecationWarning: The grid_scores_ attribute was deprecated in version 0.18 in favor of the more elaborate cv_results_ attribute. The grid_scores_ attribute will not be available from 0.20\n",
      "  DeprecationWarning)\n"
     ]
    }
   ],
   "source": [
    "param_grid5 = {\n",
    "    'colsample_bytree':[0.6, 0.7, 0.8, 0.9]\n",
    "}\n",
    "\n",
    "gs, bp, bs = GS(xgb.XGBClassifier(random_state=42, n_estimators=250, \n",
    "                                  max_depth=9, min_child_weight=9, subsample=0.8), param_grid5)\n",
    "print(gs, bp, bs)"
   ]
  },
  {
   "cell_type": "markdown",
   "metadata": {},
   "source": [
    "### Logistic Regression\n",
    "\n",
    "Займемся теперь оптимизацией гиперпараметров для логистической регрессии."
   ]
  },
  {
   "cell_type": "code",
   "execution_count": 75,
   "metadata": {
    "collapsed": false
   },
   "outputs": [
    {
     "name": "stdout",
     "output_type": "stream",
     "text": [
      "[mean: 0.60311, std: 0.00135, params: {'class_weight': 'balanced', 'C': 0.001}, mean: 0.61596, std: 0.00168, params: {'class_weight': None, 'C': 0.001}, mean: 0.64636, std: 0.00110, params: {'class_weight': 'balanced', 'C': 0.01}, mean: 0.64485, std: 0.00105, params: {'class_weight': None, 'C': 0.01}, mean: 0.67836, std: 0.00059, params: {'class_weight': 'balanced', 'C': 0.1}, mean: 0.67802, std: 0.00047, params: {'class_weight': None, 'C': 0.1}, mean: 0.67645, std: 0.00083, params: {'class_weight': 'balanced', 'C': 1}, mean: 0.67662, std: 0.00067, params: {'class_weight': None, 'C': 1}, mean: 0.64039, std: 0.00012, params: {'class_weight': 'balanced', 'C': 10}, mean: 0.64052, std: 0.00010, params: {'class_weight': None, 'C': 10}, mean: 0.59632, std: 0.00053, params: {'class_weight': 'balanced', 'C': 100}, mean: 0.59659, std: 0.00042, params: {'class_weight': None, 'C': 100}, mean: 0.56214, std: 0.00094, params: {'class_weight': 'balanced', 'C': 1000}, mean: 0.57296, std: 0.00321, params: {'class_weight': None, 'C': 1000}] {'class_weight': 'balanced', 'C': 0.1} 0.67835617079\n"
     ]
    },
    {
     "name": "stderr",
     "output_type": "stream",
     "text": [
      "/home/austud/.local/lib/python3.5/site-packages/sklearn/model_selection/_search.py:662: DeprecationWarning: The grid_scores_ attribute was deprecated in version 0.18 in favor of the more elaborate cv_results_ attribute. The grid_scores_ attribute will not be available from 0.20\n",
      "  DeprecationWarning)\n"
     ]
    }
   ],
   "source": [
    "param_grid1 = {\n",
    "    'class_weight': ['balanced', None],\n",
    "    'C':[0.001, 0.01, 0.1, 1, 10, 100, 1000]\n",
    "}\n",
    "    \n",
    "gs, bp, bs = GS(linear_model.LogisticRegression(random_state=42), param_grid1)\n",
    "print(gs, bp, bs)"
   ]
  },
  {
   "cell_type": "markdown",
   "metadata": {},
   "source": [
    "### Linear SVC"
   ]
  },
  {
   "cell_type": "code",
   "execution_count": 83,
   "metadata": {
    "collapsed": false
   },
   "outputs": [
    {
     "name": "stdout",
     "output_type": "stream",
     "text": [
      "dict_keys(['base_estimator__class_weight', 'base_estimator__multi_class', 'base_estimator__fit_intercept', 'base_estimator__dual', 'cv', 'method', 'base_estimator__verbose', 'base_estimator__max_iter', 'base_estimator', 'base_estimator__random_state', 'base_estimator__penalty', 'base_estimator__tol', 'base_estimator__C', 'base_estimator__intercept_scaling', 'base_estimator__loss'])\n"
     ]
    }
   ],
   "source": [
    "print(CalibratedClassifierCV(svm.LinearSVC(random_state=42)).get_params().keys())"
   ]
  },
  {
   "cell_type": "code",
   "execution_count": 85,
   "metadata": {
    "collapsed": false
   },
   "outputs": [
    {
     "name": "stdout",
     "output_type": "stream",
     "text": [
      "[mean: 0.63588, std: 0.00119, params: {'base_estimator__C': 0.001, 'base_estimator__class_weight': 'balanced'}, mean: 0.63295, std: 0.00117, params: {'base_estimator__C': 0.001, 'base_estimator__class_weight': None}, mean: 0.67292, std: 0.00049, params: {'base_estimator__C': 0.01, 'base_estimator__class_weight': 'balanced'}, mean: 0.67109, std: 0.00047, params: {'base_estimator__C': 0.01, 'base_estimator__class_weight': None}, mean: 0.68061, std: 0.00090, params: {'base_estimator__C': 0.1, 'base_estimator__class_weight': 'balanced'}, mean: 0.67940, std: 0.00053, params: {'base_estimator__C': 0.1, 'base_estimator__class_weight': None}, mean: 0.65222, std: 0.00049, params: {'base_estimator__C': 1, 'base_estimator__class_weight': 'balanced'}, mean: 0.65112, std: 0.00034, params: {'base_estimator__C': 1, 'base_estimator__class_weight': None}, mean: 0.61537, std: 0.00113, params: {'base_estimator__C': 10, 'base_estimator__class_weight': 'balanced'}, mean: 0.61487, std: 0.00099, params: {'base_estimator__C': 10, 'base_estimator__class_weight': None}, mean: 0.58609, std: 0.00252, params: {'base_estimator__C': 100, 'base_estimator__class_weight': 'balanced'}, mean: 0.58662, std: 0.00226, params: {'base_estimator__C': 100, 'base_estimator__class_weight': None}, mean: 0.57090, std: 0.00226, params: {'base_estimator__C': 1000, 'base_estimator__class_weight': 'balanced'}, mean: 0.57133, std: 0.00228, params: {'base_estimator__C': 1000, 'base_estimator__class_weight': None}] {'base_estimator__C': 0.1, 'base_estimator__class_weight': 'balanced'} 0.680608498973\n"
     ]
    },
    {
     "name": "stderr",
     "output_type": "stream",
     "text": [
      "/home/austud/.local/lib/python3.5/site-packages/sklearn/model_selection/_search.py:662: DeprecationWarning: The grid_scores_ attribute was deprecated in version 0.18 in favor of the more elaborate cv_results_ attribute. The grid_scores_ attribute will not be available from 0.20\n",
      "  DeprecationWarning)\n"
     ]
    }
   ],
   "source": [
    "param_grid1 = {\n",
    "    'base_estimator__class_weight': ['balanced', None],\n",
    "    'base_estimator__C':[0.001, 0.01, 0.1, 1, 10, 100, 1000]\n",
    "}\n",
    "    \n",
    "gs, bp, bs = GS(CalibratedClassifierCV(svm.LinearSVC(random_state=42)), param_grid1)\n",
    "print(gs, bp, bs) "
   ]
  },
  {
   "cell_type": "markdown",
   "metadata": {},
   "source": [
    "В случае ```LinearSVC``` удалось добиться значительного улучшения качества предсказаний.\n",
    "\n",
    "Ниже в таблице представлены значения для тюненых моделей:\n",
    "\n",
    "| LogReg | SVM   | XGB   |\n",
    "|------|------|------|\n",
    "|   0.68  | 0.68| 0.73|"
   ]
  },
  {
   "cell_type": "markdown",
   "metadata": {},
   "source": [
    "## Bagging\n",
    "\n",
    "Попробуем построить классификатор, который будет представлять из себя взвешенное среднее построенных ранее моделей."
   ]
  },
  {
   "cell_type": "code",
   "execution_count": 145,
   "metadata": {
    "collapsed": false
   },
   "outputs": [],
   "source": [
    "from sklearn.ensemble import VotingClassifier\n",
    "\n",
    "\n",
    "logreg_params = {\n",
    "    'random_state':42,\n",
    "    'class_weight':'balanced', \n",
    "    'C':0.1\n",
    "}\n",
    "\n",
    "linsvc_params = {\n",
    "    'random_state':42,\n",
    "    'class_weight':'balanced', \n",
    "    'C':0.1\n",
    "}\n",
    "\n",
    "xgb_params = {\n",
    "    'random_state':42,\n",
    "    'n_estimators':250, \n",
    "    'max_depth':9,\n",
    "    'min_child_weight':9,\n",
    "    'subsample':0.8,\n",
    "    'colsample_bytree':0.6\n",
    "}\n",
    "\n",
    "clf1 = linear_model.LogisticRegression(**logreg_params)\n",
    "clf2 = CalibratedClassifierCV(svm.LinearSVC(**linsvc_params)) \n",
    "clf3 = xgb.XGBClassifier(**xgb_params)\n",
    "\n",
    "eclf_params = {\n",
    "    'estimators':[('lr', clf1), ('linsvc', clf2), ('xgb', clf3)],\n",
    "    'voting':'soft'\n",
    "}\n",
    "\n",
    "eclf = VotingClassifier(**eclf_params)"
   ]
  },
  {
   "cell_type": "markdown",
   "metadata": {},
   "source": [
    "Попробуем подобрать веса для классификаторов используя тюнинг гиперпараметров"
   ]
  },
  {
   "cell_type": "code",
   "execution_count": 141,
   "metadata": {
    "collapsed": false
   },
   "outputs": [
    {
     "name": "stdout",
     "output_type": "stream",
     "text": [
      "[mean: 0.72328, std: 0.00263, params: {'weights': [1.0, 1.0, 2.0]}, mean: 0.72157, std: 0.00248, params: {'weights': [0.9, 1.0, 1.5]}, mean: 0.72149, std: 0.00247, params: {'weights': [1.0, 0.9, 1.5]}, mean: 0.71691, std: 0.00215, params: {'weights': None}] {'weights': [1.0, 1.0, 2.0]} 0.723279694541\n"
     ]
    },
    {
     "name": "stderr",
     "output_type": "stream",
     "text": [
      "/home/austud/.local/lib/python3.5/site-packages/sklearn/model_selection/_search.py:662: DeprecationWarning: The grid_scores_ attribute was deprecated in version 0.18 in favor of the more elaborate cv_results_ attribute. The grid_scores_ attribute will not be available from 0.20\n",
      "  DeprecationWarning)\n"
     ]
    }
   ],
   "source": [
    "param_grid1 = {\n",
    "    'weights': [[1.0, 1.0 ,2.0], \n",
    "                [0.9, 1.0, 1.5], \n",
    "                [1.0, 0.9, 1.5], \n",
    "                None]\n",
    "}\n",
    "    \n",
    "gs, bp, bs = GS(eclf, param_grid1)\n",
    "print(gs, bp, bs) "
   ]
  },
  {
   "cell_type": "code",
   "execution_count": 143,
   "metadata": {
    "collapsed": false
   },
   "outputs": [
    {
     "name": "stdout",
     "output_type": "stream",
     "text": [
      "[mean: 0.72531, std: 0.00283, params: {'weights': [1.0, 1.0, 3.0]}, mean: 0.72627, std: 0.00298, params: {'weights': [0.9, 1.0, 4.0]}] {'weights': [0.9, 1.0, 4.0]} 0.72627050899\n"
     ]
    },
    {
     "name": "stderr",
     "output_type": "stream",
     "text": [
      "/home/austud/.local/lib/python3.5/site-packages/sklearn/model_selection/_search.py:662: DeprecationWarning: The grid_scores_ attribute was deprecated in version 0.18 in favor of the more elaborate cv_results_ attribute. The grid_scores_ attribute will not be available from 0.20\n",
      "  DeprecationWarning)\n"
     ]
    }
   ],
   "source": [
    "param_grid1 = {\n",
    "    'weights': [[1.0, 1.0 ,3.0], \n",
    "                [0.9, 1.0, 4.0]]\n",
    "}\n",
    "    \n",
    "gs, bp, bs = GS(eclf, param_grid1)\n",
    "print(gs, bp, bs) "
   ]
  },
  {
   "cell_type": "code",
   "execution_count": 146,
   "metadata": {
    "collapsed": false
   },
   "outputs": [
    {
     "name": "stdout",
     "output_type": "stream",
     "text": [
      "0.726016067314\n"
     ]
    }
   ],
   "source": [
    "eclf_params['weights'] = [0.9, 1.0 ,4.0]\n",
    "\n",
    "eclf = VotingClassifier(**eclf_params)\n",
    "\n",
    "eclf.fit(X_train_in_scaled, y_train_in)\n",
    "print(AUC_PR(lambda X: prob(X, eclf), X_test_in_scaled, y_test_in))"
   ]
  },
  {
   "cell_type": "code",
   "execution_count": 147,
   "metadata": {
    "collapsed": false
   },
   "outputs": [
    {
     "name": "stdout",
     "output_type": "stream",
     "text": [
      "0.726150712805\n"
     ]
    }
   ],
   "source": [
    "eclf_params['weights'] = [1.0, 1.0 ,5.0]\n",
    "\n",
    "eclf = VotingClassifier(**eclf_params)\n",
    "\n",
    "eclf.fit(X_train_in_scaled, y_train_in)\n",
    "print(AUC_PR(lambda X: prob(X, eclf), X_test_in_scaled, y_test_in))"
   ]
  },
  {
   "cell_type": "markdown",
   "metadata": {},
   "source": [
    "## Model Stacking\n",
    "\n",
    "https://www.kaggle.com/arthurtok/introduction-to-ensembling-stacking-in-python\n",
    "\n",
    "Попробуем использовать результаты предсказания предыдущих трех затюненых классификаторов как дополнительные фичи для нового классификатора.\n",
    "\n",
    "Для этого построим новую матрицу, на которой будем выполнять обучение."
   ]
  },
  {
   "cell_type": "code",
   "execution_count": 157,
   "metadata": {
    "collapsed": false
   },
   "outputs": [],
   "source": [
    "from sklearn.cross_validation import StratifiedKFold\n",
    "\n",
    "\n",
    "ntrain = X_train_in_scaled.shape[0]\n",
    "ntest = X_test_in_scaled.shape[0]\n",
    "\n",
    "NFOLDS = 3 \n",
    "y_train_in = np.array(y_train_in)\n",
    "kf = StratifiedKFold(y_train_in, n_folds=NFOLDS, random_state=42)"
   ]
  },
  {
   "cell_type": "code",
   "execution_count": 158,
   "metadata": {
    "collapsed": true
   },
   "outputs": [],
   "source": [
    "def get_oof(clf, x_train, y_train, x_test):\n",
    "    oof_train = np.zeros((ntrain,))\n",
    "    oof_test = np.zeros((ntest,))\n",
    "    oof_test_skf = np.empty((NFOLDS, ntest))\n",
    "\n",
    "    for i, (train_index, test_index) in enumerate(kf):\n",
    "        x_tr = x_train[train_index]\n",
    "        y_tr = y_train[train_index]\n",
    "        x_te = x_train[test_index]\n",
    "\n",
    "        clf.fit(x_tr, y_tr)\n",
    "\n",
    "        oof_train[test_index] = clf.predict(x_te)\n",
    "        oof_test_skf[i, :] = clf.predict(x_test)\n",
    "\n",
    "    oof_test[:] = oof_test_skf.mean(axis=0)\n",
    "    return oof_train.reshape(-1, 1), oof_test.reshape(-1, 1)"
   ]
  },
  {
   "cell_type": "code",
   "execution_count": 159,
   "metadata": {
    "collapsed": false
   },
   "outputs": [],
   "source": [
    "clf1_oof_train, clf1_oof_test = get_oof(clf1, X_train_in_scaled, y_train_in, X_test_in_scaled) # LogReg\n",
    "clf2_oof_train, clf2_oof_test = get_oof(clf2, X_train_in_scaled, y_train_in, X_test_in_scaled) # LinearSVC\n",
    "clf3_oof_train, clf3_oof_test = get_oof(clf3, X_train_in_scaled, y_train_in, X_test_in_scaled) # XGB "
   ]
  },
  {
   "cell_type": "code",
   "execution_count": 160,
   "metadata": {
    "collapsed": true
   },
   "outputs": [],
   "source": [
    "x_train = np.concatenate(( clf1_oof_train, clf2_oof_train, clf3_oof_train), axis=1)\n",
    "x_test = np.concatenate(( clf1_oof_test, clf2_oof_test, clf3_oof_test), axis=1)"
   ]
  },
  {
   "cell_type": "code",
   "execution_count": 161,
   "metadata": {
    "collapsed": false
   },
   "outputs": [
    {
     "name": "stdout",
     "output_type": "stream",
     "text": [
      "0.726837551117\n"
     ]
    }
   ],
   "source": [
    "gbm = xgb.XGBClassifier(random_state=42)\n",
    "gbm.fit(x_train, y_train_in)\n",
    "print(AUC_PR(lambda X: prob(X, gbm), x_test, y_test_in))"
   ]
  },
  {
   "cell_type": "markdown",
   "metadata": {},
   "source": [
    "Подводя итоги для задачи предсказания пола, рассмотрим таблицу со значением метрики ```AUC PR``` для различных моделей:\n",
    "\n",
    "| LogReg | SVM   | XGB   | Bagging   | M.Stack.   |\n",
    "|------|------|------|------|------|------|\n",
    "|   0.68  | 0.68| 0.725| 0.726| 0.727|\n",
    "\n",
    "Из таблицы видно, что наилучших результатов удалось добиться используя ```Stacking``` подход.\n",
    "\n",
    "Кроме того, была выполнена попытка уменьшить размерность данных используя ```TruncatedSVD```, но доля объясненной дисперсии была слишком мала."
   ]
  },
  {
   "cell_type": "markdown",
   "metadata": {},
   "source": [
    "# Предсказание возраста\n",
    "\n",
    "Попробуем решать задачу предсказания возраста как задачу классификации"
   ]
  },
  {
   "cell_type": "code",
   "execution_count": 20,
   "metadata": {
    "collapsed": false
   },
   "outputs": [
    {
     "name": "stdout",
     "output_type": "stream",
     "text": [
      "{'age_25_34', 'age_45_54', 'age_35_44', 'age_55_64', 'age_65_plus', 'age_18_24'}\n"
     ]
    }
   ],
   "source": [
    "age_labels = set([get_feature_name(row[0]) for row in raw_data])\n",
    "\n",
    "print(age_labels)"
   ]
  },
  {
   "cell_type": "code",
   "execution_count": 21,
   "metadata": {
    "collapsed": true
   },
   "outputs": [],
   "source": [
    "age_labels_to_y = {'age_18_24':0, \n",
    "                   'age_25_34':1, \n",
    "                   'age_35_44':2, \n",
    "                   'age_45_54':3, \n",
    "                   'age_55_64':4, \n",
    "                   'age_65_plus':5}\n",
    "\n",
    "Y_age = np.array([age_labels_to_y[get_feature_name(row[0])] for row in raw_data])"
   ]
  },
  {
   "cell_type": "markdown",
   "metadata": {},
   "source": [
    "Будем использовать данные очищенные от выбросов."
   ]
  },
  {
   "cell_type": "code",
   "execution_count": 22,
   "metadata": {
    "collapsed": true
   },
   "outputs": [],
   "source": [
    "from sklearn.preprocessing import label_binarize\n",
    "\n",
    "\n",
    "Y_age_inliers = [age for (age, inlier) in zip(Y_age, y_pred) if inlier == 1]\n",
    "\n",
    "X_inliers_age = maxabs_scale(X_inliers, copy=True)\n",
    "\n",
    "X_train_age, X_test_age, y_train_age, y_test_age = train_test_split(X_inliers_age, Y_age_inliers, \n",
    "                                                                    stratify=Y_age_inliers, \n",
    "                                                                    test_size=0.2, \n",
    "                                                                    random_state=42)\n",
    "\n",
    "y_test_age_bin = label_binarize(y_test_age, classes=range(6))"
   ]
  },
  {
   "cell_type": "markdown",
   "metadata": {},
   "source": [
    "Посмотрим на пропрции классов в данных. Мы видим, что пропорции классов сильно отличаются."
   ]
  },
  {
   "cell_type": "code",
   "execution_count": 23,
   "metadata": {
    "collapsed": false
   },
   "outputs": [
    {
     "name": "stdout",
     "output_type": "stream",
     "text": [
      "[0.07624074074074073, 0.3360092592592593, 0.3052592592592593, 0.16687037037037036, 0.09760185185185186, 0.018018518518518517]\n"
     ]
    }
   ],
   "source": [
    "weights = [y_train_age.count(i)/len(y_train_age) for i in range(6)]\n",
    "print(weights)"
   ]
  },
  {
   "cell_type": "markdown",
   "metadata": {},
   "source": [
    "### Модель 1"
   ]
  },
  {
   "cell_type": "code",
   "execution_count": 200,
   "metadata": {
    "collapsed": false
   },
   "outputs": [],
   "source": [
    "clf = model1({'class_weight':'balanced', 'random_state':42}, X_train_age, y_train_age)"
   ]
  },
  {
   "cell_type": "code",
   "execution_count": 179,
   "metadata": {
    "collapsed": false
   },
   "outputs": [
    {
     "name": "stdout",
     "output_type": "stream",
     "text": [
      "0.346367354468\n"
     ]
    }
   ],
   "source": [
    "avg_prec = average_precision_score(y_test_age_bin, clf.decision_function(X_test_age), average=\"micro\")\n",
    "print(avg_prec)"
   ]
  },
  {
   "cell_type": "markdown",
   "metadata": {},
   "source": [
    "Так как классы упорядочены вдоль числовой прямой, то нас интересуют ошибки, связанные с тем, что объекты, лежащие рядом с границей класса, были отнесены классификатором к соседнему классу.\n",
    "\n",
    "Для того, чтобы оценить качество классификатора, построим ```confusion matrix```."
   ]
  },
  {
   "cell_type": "code",
   "execution_count": 24,
   "metadata": {
    "collapsed": false
   },
   "outputs": [],
   "source": [
    "import itertools\n",
    "from sklearn.metrics import confusion_matrix\n",
    "\n",
    "# http://scikit-learn.org/stable/auto_examples/model_selection/plot_confusion_matrix.html#sphx-glr-auto-examples-model-selection-plot-confusion-matrix-py\n",
    "def plot_confusion_matrix(cm, classes,\n",
    "                          normalize=False,\n",
    "                          title='Confusion matrix',\n",
    "                          cmap=plt.cm.Blues):\n",
    "    \"\"\"\n",
    "    This function prints and plots the confusion matrix.\n",
    "    Normalization can be applied by setting `normalize=True`.\n",
    "    \"\"\"\n",
    "    if normalize:\n",
    "        cm = cm.astype('float') / cm.sum(axis=1)[:, np.newaxis]\n",
    "\n",
    "    plt.imshow(cm, interpolation='nearest', cmap=cmap)\n",
    "    plt.title(title)\n",
    "    plt.colorbar()\n",
    "    tick_marks = np.arange(len(classes))\n",
    "    plt.xticks(tick_marks, classes, rotation=45)\n",
    "    plt.yticks(tick_marks, classes)\n",
    "\n",
    "    fmt = '.2f' if normalize else 'd'\n",
    "    thresh = cm.max() / 2.\n",
    "    for i, j in itertools.product(range(cm.shape[0]), range(cm.shape[1])):\n",
    "        plt.text(j, i, format(cm[i, j], fmt),\n",
    "                 horizontalalignment=\"center\",\n",
    "                 color=\"white\" if cm[i, j] > thresh else \"black\")\n",
    "\n",
    "    plt.tight_layout()\n",
    "    plt.ylabel('True label')\n",
    "    plt.xlabel('Predicted label')"
   ]
  },
  {
   "cell_type": "code",
   "execution_count": 25,
   "metadata": {
    "collapsed": false
   },
   "outputs": [],
   "source": [
    "class_names = ['age_18_24', 'age_25_34', 'age_35_44', 'age_45_54', 'age_55_64', 'age_65_plus']"
   ]
  },
  {
   "cell_type": "code",
   "execution_count": 201,
   "metadata": {
    "collapsed": false
   },
   "outputs": [
    {
     "data": {
      "image/png": "[encoded data removed]",
      "text/plain": [
       "<matplotlib.figure.Figure at 0x7efe264516d8>"
      ]
     },
     "metadata": {},
     "output_type": "display_data"
    }
   ],
   "source": [
    "cnf_matrix = confusion_matrix(y_test_age, clf.predict(X_test_age))\n",
    "\n",
    "plt.figure()\n",
    "plot_confusion_matrix(cnf_matrix, classes=class_names, normalize=True,\n",
    "                      title='Normalized confusion matrix')\n",
    "\n",
    "plt.show()"
   ]
  },
  {
   "cell_type": "markdown",
   "metadata": {},
   "source": [
    "Смотря на таблицу, можно сказать, что, действительно, в среднем, количество объектов, которые были ошибочно классифицированы в другие классы, уменьшается с увеличением расстояния между истинным классом и ошибочным.\n",
    "\n",
    "Так, например, 52% объектов класса ```age_18_24``` были ошибочно отнесены к классу ```age_25_34```, и к классу ```age_35_44``` были ошибочно отнесены 15% объектов."
   ]
  },
  {
   "cell_type": "markdown",
   "metadata": {},
   "source": [
    "### Модель 2\n",
    "\n",
    "Обучим ```XGB``` классификатор."
   ]
  },
  {
   "cell_type": "code",
   "execution_count": 202,
   "metadata": {
    "collapsed": true
   },
   "outputs": [],
   "source": [
    "clf = model3({'objective':'multi:softmax', 'random_state':42}, X_train_age, y_train_age)"
   ]
  },
  {
   "cell_type": "code",
   "execution_count": 30,
   "metadata": {
    "collapsed": true
   },
   "outputs": [],
   "source": [
    "def show_results(clf, X_test=X_test_age, y_test=y_test_age, y_test_bin=y_test_age_bin):\n",
    "    avg_prec = average_precision_score(y_test_age_bin, clf.predict_proba(X_test_age), average=\"micro\")\n",
    "    print(avg_prec)\n",
    "\n",
    "    cnf_matrix = confusion_matrix(y_test_age, clf.predict(X_test_age))\n",
    "\n",
    "    plt.figure()\n",
    "    plot_confusion_matrix(cnf_matrix, classes=class_names, normalize=True,\n",
    "                          title='Normalized confusion matrix')\n",
    "\n",
    "    plt.show()"
   ]
  },
  {
   "cell_type": "code",
   "execution_count": 203,
   "metadata": {
    "collapsed": false
   },
   "outputs": [
    {
     "name": "stdout",
     "output_type": "stream",
     "text": [
      "0.406783415091\n"
     ]
    },
    {
     "data": {
      "image/png": "[encoded data removed]",
      "text/plain": [
       "<matplotlib.figure.Figure at 0x7efe56a8ecf8>"
      ]
     },
     "metadata": {},
     "output_type": "display_data"
    }
   ],
   "source": [
    "show_results(clf)"
   ]
  },
  {
   "cell_type": "markdown",
   "metadata": {},
   "source": [
    "Можно видеть, что данный классификатор значительно лучше предыдущего."
   ]
  },
  {
   "cell_type": "markdown",
   "metadata": {},
   "source": [
    "### Модель 3"
   ]
  },
  {
   "cell_type": "code",
   "execution_count": 204,
   "metadata": {
    "collapsed": false
   },
   "outputs": [
    {
     "data": {
      "text/plain": [
       "RandomForestClassifier(bootstrap=True, class_weight='balanced',\n",
       "            criterion='gini', max_depth=None, max_features='auto',\n",
       "            max_leaf_nodes=None, min_impurity_split=1e-07,\n",
       "            min_samples_leaf=1, min_samples_split=2,\n",
       "            min_weight_fraction_leaf=0.0, n_estimators=10, n_jobs=1,\n",
       "            oob_score=False, random_state=42, verbose=0, warm_start=False)"
      ]
     },
     "execution_count": 204,
     "metadata": {},
     "output_type": "execute_result"
    }
   ],
   "source": [
    "from sklearn.ensemble import RandomForestClassifier\n",
    "\n",
    "\n",
    "clf = RandomForestClassifier(random_state=42, class_weight='balanced')\n",
    "clf.fit(X_train_age, y_train_age)"
   ]
  },
  {
   "cell_type": "code",
   "execution_count": 205,
   "metadata": {
    "collapsed": false
   },
   "outputs": [
    {
     "name": "stdout",
     "output_type": "stream",
     "text": [
      "0.321040169324\n"
     ]
    },
    {
     "data": {
      "image/png": "[encoded data removed]",
      "text/plain": [
       "<matplotlib.figure.Figure at 0x7efe55145748>"
      ]
     },
     "metadata": {},
     "output_type": "display_data"
    }
   ],
   "source": [
    "show_results(clf)"
   ]
  },
  {
   "cell_type": "markdown",
   "metadata": {},
   "source": [
    "Для последних двух моделей верно, что в срднем, к какому бы классу на самом деле не принадлежал объект, он будет классифицирован как объект класса ```age_25_34``` или класса ```age_35_44```. \n",
    "\n",
    "Данное надлюдение наводит нас на мысль о том, что классификаторы не чувствительны к объектам из маленьких классов. \n",
    "\n",
    "Ниже мы попробуем решить данную проблему."
   ]
  },
  {
   "cell_type": "markdown",
   "metadata": {},
   "source": [
    "## Over-sampling\n",
    "\n",
    "Мы знаем, что пропорции классов в данных сильно отличаются. Для того чтобы сделать классификатор более чувствительными к объектам принадлежащим маленьким классам выполним процедуру ```over-sampling'```а."
   ]
  },
  {
   "cell_type": "code",
   "execution_count": 26,
   "metadata": {
    "collapsed": true
   },
   "outputs": [],
   "source": [
    "from imblearn.over_sampling import SMOTE\n",
    "\n",
    "\n",
    "sm = SMOTE(random_state=42, ratio='minority', kind='svm')\n",
    "x_train_res, y_train_res = sm.fit_sample(X_train_age, y_train_age)"
   ]
  },
  {
   "cell_type": "code",
   "execution_count": 27,
   "metadata": {
    "collapsed": false
   },
   "outputs": [
    {
     "name": "stdout",
     "output_type": "stream",
     "text": [
      "[0.07624074074074073, 0.3360092592592593, 0.3052592592592593, 0.16687037037037036, 0.09760185185185186, 0.018018518518518517]\n",
      "[0.06489238456264235, 0.2859946251389031, 0.2598217311466108, 0.14203188663929323, 0.08307391616162413, 0.1641854563509264]\n"
     ]
    }
   ],
   "source": [
    "weights_res = [list(y_train_res).count(i)/len(y_train_res) for i in range(6)]\n",
    "print(weights)\n",
    "print(weights_res)"
   ]
  },
  {
   "cell_type": "code",
   "execution_count": 28,
   "metadata": {
    "collapsed": true
   },
   "outputs": [],
   "source": [
    "clf = model3({'objective':'multi:softmax', 'random_state':42}, x_train_res, y_train_res)"
   ]
  },
  {
   "cell_type": "code",
   "execution_count": 31,
   "metadata": {
    "collapsed": false
   },
   "outputs": [
    {
     "name": "stdout",
     "output_type": "stream",
     "text": [
      "0.403064267791\n"
     ]
    },
    {
     "data": {
      "image/png": "[encoded data removed]",
      "text/plain": [
       "<matplotlib.figure.Figure at 0x7f7823928b70>"
      ]
     },
     "metadata": {},
     "output_type": "display_data"
    }
   ],
   "source": [
    "show_results(clf)"
   ]
  },
  {
   "cell_type": "markdown",
   "metadata": {},
   "source": [
    "Сравнивая полученные результаты с ```confusion``` матрицой для модели 2 можно сказать, что не смотря на выполненную процедуру ```over-sampling'```а, класс ```age_65_plus``` выделяется классификатором все так же плохо.\n",
    "\n",
    "Итоговая таблица ```AUC PR```:\n",
    "\n",
    "| LogReg | XGB   | RF   | O.-S.   |\n",
    "|------|------|------|------|\n",
    "|   0.3463  | 0.4067| 0.3210| 0.4030|\n",
    "\n",
    "\n",
    "### Возможные дальнейшие шаги\n",
    "\n",
    "К сожелению, в связи с нехваткой времени, не удалось выполнить все интересующие эксперименты или попробовать другие методы обучения.\n",
    "\n",
    "Возможные шаги:\n",
    "- Попробовать другие методы для выполнения resampling'а\n",
    "- Для решение описаной ранее проблемы можно было бы попробовать выполнить under-sampling для двух majority классов.\n",
    "- Выполнить тюнинг параметров модели 2, так как она показала наилучший результат."
   ]
  }
 ],
 "metadata": {
  "anaconda-cloud": {},
  "kernelspec": {
   "display_name": "Python [default]",
   "language": "python",
   "name": "python3"
  },
  "language_info": {
   "codemirror_mode": {
    "name": "ipython",
    "version": 3
   },
   "file_extension": ".py",
   "mimetype": "text/x-python",
   "name": "python",
   "nbconvert_exporter": "python",
   "pygments_lexer": "ipython3",
   "version": "3.5.2"
  }
 },
 "nbformat": 4,
 "nbformat_minor": 1
}
