{
 "cells": [
  {
   "cell_type": "code",
   "execution_count": 1,
   "metadata": {
    "collapsed": true
   },
   "outputs": [],
   "source": [
    "import pandas as pd\n",
    "import numpy as np\n",
    "import math\n",
    "\n",
    "\n",
    "mat = pd.read_csv('student-mat.csv', sep=';')\n",
    "por = pd.read_csv('student-por.csv', sep=';')\n",
    "\n",
    "df = pd.concat([mat, por])"
   ]
  },
  {
   "cell_type": "markdown",
   "metadata": {},
   "source": [
    "### Target\n",
    "на основании данных из предикторов $Walc$ и $Dalc$, создаем атрибут $Alc$ - то что будем предсказывать"
   ]
  },
  {
   "cell_type": "code",
   "execution_count": 2,
   "metadata": {
    "collapsed": false
   },
   "outputs": [],
   "source": [
    "df['Alc'] = round((2*df['Walc'] + 5*df['Dalc'])/7)\n",
    "df['Alc'] = df['Alc'].astype(int)"
   ]
  },
  {
   "cell_type": "code",
   "execution_count": 3,
   "metadata": {
    "collapsed": false
   },
   "outputs": [],
   "source": [
    "del df['Walc']\n",
    "del df['Dalc']"
   ]
  },
  {
   "cell_type": "markdown",
   "metadata": {},
   "source": [
    "### Preprocessing\n",
    "Необходимо выполнить преобразование строковых значений атрибутов, в численные представления"
   ]
  },
  {
   "cell_type": "code",
   "execution_count": 4,
   "metadata": {
    "collapsed": true
   },
   "outputs": [],
   "source": [
    "from sklearn.preprocessing import LabelEncoder\n",
    "\n",
    "cat = ['school', 'sex', 'address', 'famsize', \n",
    "       'Pstatus', 'schoolsup', 'famsup', 'paid', \n",
    "       'activities', 'nursery', 'higher', 'internet', 'romantic']\n",
    "\n",
    "for c in cat:\n",
    "    label = LabelEncoder()\n",
    "    dicts = {}\n",
    "\n",
    "    label.fit(df[c].drop_duplicates()) #задаем список значений для кодирования\n",
    "    dicts[c] = list(label.classes_)\n",
    "    df[c] = label.transform(df[c]) #заменяем значения из списка кодами закодированных элементов "
   ]
  },
  {
   "cell_type": "code",
   "execution_count": 5,
   "metadata": {
    "collapsed": false
   },
   "outputs": [],
   "source": [
    "del df['Mjob']\n",
    "del df['Fjob']\n",
    "del df['reason']\n",
    "del df['guardian']\n",
    "# nominal = ['Mjob', 'Fjob', 'reason'] # , 'guardian'\n",
    "\n",
    "# for c in nominal:\n",
    "#     dummies = pd.get_dummies(df[c]).rename(columns=lambda x: c + '_' + str(x))\n",
    "#     df = pd.concat([df, dummies], axis=1)\n",
    "#     del df[c]"
   ]
  },
  {
   "cell_type": "code",
   "execution_count": 6,
   "metadata": {
    "collapsed": true
   },
   "outputs": [],
   "source": [
    "target = df.Alc\n",
    "train = df.drop(['Alc'], axis=1) "
   ]
  },
  {
   "cell_type": "markdown",
   "metadata": {},
   "source": [
    "### Dimension Reduction\n",
    "В виду ограничения на количество используемых предикторов, необходимо, используя некоторые соображения, удалить часть предикторов.\n",
    "\n",
    "Ранее, часть предикторов уже была удалена на основании обычных рассуждений. \n",
    "\n",
    "Для того чтобы принять решение о том, какие предикторы можно удалить, было решено посчитать корреляцию между таргетом $Alc$ и предикторами "
   ]
  },
  {
   "cell_type": "code",
   "execution_count": 7,
   "metadata": {
    "collapsed": false
   },
   "outputs": [
    {
     "name": "stdout",
     "output_type": "stream",
     "text": [
      "school 0.0476234474369 0.12410000649\n",
      "sex 0.315184534621 1.64640155327e-25\n",
      "age 0.111809506276 0.000294941296315\n",
      "address -0.0616257592034 0.0465143077656\n",
      "famsize 0.100940480255 0.00109107459897\n",
      "Pstatus 0.0560940717255 0.0700309828007\n",
      "Medu -0.00753769560659 0.807802373074\n",
      "Fedu 0.00997693625141 0.747462919119\n",
      "traveltime 0.0543963820319 0.0789525652971\n",
      "studytime -0.222091474138 3.92185784744e-13\n",
      "failures 0.132467028655 1.75522777536e-05\n",
      "schoolsup -0.0511870452167 0.0983295635989\n",
      "famsup -0.0725802360338 0.0190054713251\n",
      "paid 0.0446715175718 0.149197508249\n",
      "activities 0.00508538136317 0.869638316989\n",
      "nursery -0.0785964381258 0.0110720358812\n",
      "higher -0.111626285832 0.000301818569715\n",
      "internet 0.0420313252101 0.17476645346\n",
      "romantic 0.0151975463811 0.623788751759\n",
      "famrel -0.114137326318 0.000219407245161\n",
      "freetime 0.160601518788 1.81965792189e-07\n",
      "goout 0.348703390869 3.25630224243e-31\n",
      "health 0.107102603893 0.000527437904946\n",
      "absences 0.155255250105 4.6301494871e-07\n",
      "G1 -0.178062529694 6.92072715739e-09\n",
      "G2 -0.17445343088 1.39851478431e-08\n",
      "G3 -0.187822597927 9.59698582502e-10\n"
     ]
    }
   ],
   "source": [
    "import scipy as sp\n",
    "\n",
    "headers = ['school', 'sex', 'age', 'address', 'famsize', \n",
    "           'Pstatus', 'Medu', 'Fedu', 'traveltime', 'studytime', 'failures', \n",
    "           'schoolsup', 'famsup', 'paid', 'activities', 'nursery', \n",
    "           'higher', 'internet', 'romantic', 'famrel', 'freetime', \n",
    "           'goout', 'health', 'absences', \n",
    "           'G1', 'G2', 'G3']\n",
    "\n",
    "for h in headers:\n",
    "    s = sp.stats.spearmanr(train[h], target)\n",
    "    print(h, s[0], s[1])"
   ]
  },
  {
   "cell_type": "code",
   "execution_count": 8,
   "metadata": {
    "collapsed": false
   },
   "outputs": [],
   "source": [
    "del train['failures']\n",
    "del train['absences']\n",
    "del train['G1']\n",
    "del train['G2']\n",
    "del train['G3']\n",
    "del train['higher']\n",
    "del train['famrel']"
   ]
  },
  {
   "cell_type": "code",
   "execution_count": null,
   "metadata": {
    "collapsed": false
   },
   "outputs": [],
   "source": [
    "# from sklearn.decomposition import PCA\n",
    "\n",
    "\n",
    "# pca = PCA(n_components=10)\n",
    "# pca.fit(train)\n",
    "# train = pca.transform(train)"
   ]
  },
  {
   "cell_type": "markdown",
   "metadata": {},
   "source": [
    "### Модели\n",
    "* Random Forest\n",
    "* kNN\n",
    "* SVM\n",
    "* NeuralNetwork"
   ]
  },
  {
   "cell_type": "code",
   "execution_count": 10,
   "metadata": {
    "collapsed": false
   },
   "outputs": [],
   "source": [
    "from sklearn import cross_validation, svm\n",
    "from sklearn.neighbors import KNeighborsClassifier\n",
    "from sklearn.ensemble import RandomForestClassifier\n",
    "\n",
    "kfold = 5 \n",
    "itog_val = {} "
   ]
  },
  {
   "cell_type": "code",
   "execution_count": 11,
   "metadata": {
    "collapsed": true
   },
   "outputs": [],
   "source": [
    "model_rfc = RandomForestClassifier()\n",
    "model_knc = KNeighborsClassifier()\n",
    "model_svc = svm.SVC()"
   ]
  },
  {
   "cell_type": "code",
   "execution_count": 35,
   "metadata": {
    "collapsed": false
   },
   "outputs": [],
   "source": [
    "scores = cross_validation.cross_val_score(model_rfc, train, target, cv = kfold)\n",
    "itog_val['RFC'] = scores.mean()\n",
    "scores = cross_validation.cross_val_score(model_knc, train, target, cv = kfold)\n",
    "itog_val['KNN'] = scores.mean()\n",
    "scores = cross_validation.cross_val_score(model_svc, train, target, cv = kfold)\n",
    "itog_val['SVM'] = scores.mean()"
   ]
  },
  {
   "cell_type": "markdown",
   "metadata": {},
   "source": [
    "### Результаты CV (20 предикторов)"
   ]
  },
  {
   "cell_type": "code",
   "execution_count": 33,
   "metadata": {
    "collapsed": false
   },
   "outputs": [
    {
     "name": "stdout",
     "output_type": "stream",
     "text": [
      "{'KNN': 0.57346742277895979, 'RFC': 0.81225277223017134, 'SVM': 0.59011039990820924}\n"
     ]
    }
   ],
   "source": [
    "print(itog_val)"
   ]
  },
  {
   "cell_type": "markdown",
   "metadata": {},
   "source": [
    "С помощью RandomForest, оценим то, какие предикторы являются важными для классификатора,\n",
    "и, на основании полученных сведений, удалим некоторые предикторы"
   ]
  },
  {
   "cell_type": "code",
   "execution_count": 42,
   "metadata": {
    "collapsed": false
   },
   "outputs": [
    {
     "name": "stdout",
     "output_type": "stream",
     "text": [
      "Feature ranking:\n",
      "1. feature 18 - freetime (0.105318)\n",
      "2. feature 2 - sex (0.096638)\n",
      "3. feature 19 - goout (0.081774)\n",
      "4. feature 17 - romantic (0.080038)\n",
      "5. feature 6 - Pstatus (0.072107)\n",
      "6. feature 7 - Medu (0.067632)\n",
      "7. feature 9 - traveltime (0.066005)\n",
      "8. feature 8 - Fedu (0.055952)\n",
      "9. feature 1 - school (0.045102)\n",
      "10. feature 4 - address (0.039283)\n",
      "11. feature 13 - paid (0.039002)\n",
      "12. feature 16 - internet (0.035080)\n",
      "13. feature 0 - health (0.033634)\n",
      "14. feature 11 - schoolsup (0.032513)\n",
      "15. feature 14 - activities (0.031909)\n",
      "16. feature 3 - age (0.031812)\n",
      "17. feature 10 - studytime (0.022608)\n",
      "18. feature 5 - famsize (0.021770)\n",
      "19. feature 12 - famsup (0.021236)\n",
      "20. feature 15 - nursery (0.020588)\n"
     ]
    },
    {
     "data": {
      "image/png": "[encoded data removed]",
      "text/plain": [
       "<matplotlib.figure.Figure at 0x7f22a1b607b8>"
      ]
     },
     "metadata": {},
     "output_type": "display_data"
    }
   ],
   "source": [
    "from matplotlib import pyplot as plt\n",
    "\n",
    "\n",
    "model_rfc.fit(train, target)\n",
    "\n",
    "importances = model_rfc.feature_importances_\n",
    "std = np.std([tree.feature_importances_ for tree in model_rfc.estimators_],\n",
    "             axis=0)\n",
    "indices = np.argsort(importances)[::-1]\n",
    "\n",
    "# Print the feature ranking\n",
    "print(\"Feature ranking:\")\n",
    "\n",
    "header = list(train.columns.values)\n",
    "\n",
    "for f in range(train.shape[1]):\n",
    "    print(\"%d. feature %d - %s (%f)\" % (f + 1, indices[f], header[indices[f]-1],importances[indices[f]]))\n",
    "\n",
    "# Plot the feature importances of the forest\n",
    "plt.figure()\n",
    "plt.title(\"Feature importances\")\n",
    "plt.bar(range(train.shape[1]), importances[indices],\n",
    "       color=\"r\", yerr=std[indices], align=\"center\")\n",
    "plt.xticks(range(train.shape[1]), indices)\n",
    "plt.xlim([-1, train.shape[1]])\n",
    "plt.show()"
   ]
  },
  {
   "cell_type": "code",
   "execution_count": 43,
   "metadata": {
    "collapsed": true
   },
   "outputs": [],
   "source": [
    "del train['nursery']\n",
    "del train['famsup']\n",
    "del train['famsize']\n",
    "del train['studytime']\n",
    "del train['age']\n",
    "del train['activities']\n",
    "del train['schoolsup']\n",
    "del train['health']\n",
    "del train['internet']\n",
    "del train['paid']"
   ]
  },
  {
   "cell_type": "markdown",
   "metadata": {},
   "source": [
    "### Результаты CV (10 предикторов)\n",
    "Из результатов видно, что удаление предикторов негативно скзалось на предсказывающей способности классификаторов"
   ]
  },
  {
   "cell_type": "code",
   "execution_count": 48,
   "metadata": {
    "collapsed": false
   },
   "outputs": [
    {
     "name": "stdout",
     "output_type": "stream",
     "text": [
      "{'KNN': 0.55894471343719632, 'RFC': 0.77680092331930306, 'SVM': 0.57372575148258864}\n"
     ]
    }
   ],
   "source": [
    "scores = cross_validation.cross_val_score(model_rfc, train, target, cv = kfold)\n",
    "itog_val['RFC'] = scores.mean()\n",
    "scores = cross_validation.cross_val_score(model_knc, train, target, cv = kfold)\n",
    "itog_val['KNN'] = scores.mean()\n",
    "scores = cross_validation.cross_val_score(model_svc, train, target, cv = kfold)\n",
    "itog_val['SVM'] = scores.mean()\n",
    "\n",
    "print(itog_val)"
   ]
  },
  {
   "cell_type": "markdown",
   "metadata": {},
   "source": [
    "#### Neural Network"
   ]
  },
  {
   "cell_type": "code",
   "execution_count": 49,
   "metadata": {
    "collapsed": false
   },
   "outputs": [],
   "source": [
    "in_dim = 10\n",
    "out_dim = 5\n",
    "\n",
    "def labels_one_hot_encoding(labels):\n",
    "    l = len(labels)\n",
    "    tl = np.zeros((l, out_dim))\n",
    "    tl[np.arange(l), labels-1] = 1\n",
    "    return tl\n",
    "\n",
    "Y_train = labels_one_hot_encoding(target)\n",
    "X_train = train.as_matrix()"
   ]
  },
  {
   "cell_type": "code",
   "execution_count": 50,
   "metadata": {
    "collapsed": false
   },
   "outputs": [],
   "source": [
    "from keras.models import Sequential\n",
    "from keras.layers import Dense, Activation\n",
    "from keras.optimizers import SGD\n",
    "\n",
    "\n",
    "def compile_model(model, learning_rate=0.1, d=1e-6):\n",
    "    sgd = SGD(lr=learning_rate, decay=d) #, momentum=0.9, nesterov=True)\n",
    "    model.compile(loss='categorical_crossentropy',\n",
    "              optimizer=sgd,\n",
    "              metrics=['categorical_accuracy'])\n",
    "    \n",
    "    return model\n",
    "\n",
    "def train_and_test_model(model, X_train, Y_train, bs=4, epoch=100):\n",
    "    model.fit(X_train, Y_train, batch_size=bs, nb_epoch=epoch)\n",
    "\n",
    "def model_nn():\n",
    "    model = Sequential()\n",
    "    model.add(Dense(10, input_dim=in_dim))\n",
    "    model.add(Activation('tanh'))\n",
    "    model.add(Dense(8))\n",
    "    model.add(Activation('tanh'))\n",
    "    model.add(Dense(out_dim))\n",
    "    model.add(Activation('softmax'))\n",
    "\n",
    "    return model"
   ]
  },
  {
   "cell_type": "code",
   "execution_count": 56,
   "metadata": {
    "collapsed": false
   },
   "outputs": [
    {
     "name": "stdout",
     "output_type": "stream",
     "text": [
      "Epoch 1/200\n",
      "1044/1044 [==============================] - 0s - loss: 1.1655 - categorical_accuracy: 0.5374     \n",
      "Epoch 2/200\n",
      "1044/1044 [==============================] - 0s - loss: 1.1242 - categorical_accuracy: 0.5354     \n",
      "Epoch 3/200\n",
      "1044/1044 [==============================] - 0s - loss: 1.0957 - categorical_accuracy: 0.5345     \n",
      "Epoch 4/200\n",
      "1044/1044 [==============================] - 0s - loss: 1.0856 - categorical_accuracy: 0.5393     \n",
      "Epoch 5/200\n",
      "1044/1044 [==============================] - 0s - loss: 1.0765 - categorical_accuracy: 0.5441     \n",
      "Epoch 6/200\n",
      "1044/1044 [==============================] - 0s - loss: 1.0703 - categorical_accuracy: 0.5489     \n",
      "Epoch 7/200\n",
      "1044/1044 [==============================] - 0s - loss: 1.0633 - categorical_accuracy: 0.5527     \n",
      "Epoch 8/200\n",
      "1044/1044 [==============================] - 0s - loss: 1.0537 - categorical_accuracy: 0.5603     \n",
      "Epoch 9/200\n",
      "1044/1044 [==============================] - 0s - loss: 1.0607 - categorical_accuracy: 0.5527     \n",
      "Epoch 10/200\n",
      "1044/1044 [==============================] - 0s - loss: 1.0531 - categorical_accuracy: 0.5517     \n",
      "Epoch 11/200\n",
      "1044/1044 [==============================] - 0s - loss: 1.0495 - categorical_accuracy: 0.5613     \n",
      "Epoch 12/200\n",
      "1044/1044 [==============================] - 0s - loss: 1.0471 - categorical_accuracy: 0.5603     \n",
      "Epoch 13/200\n",
      "1044/1044 [==============================] - 0s - loss: 1.0360 - categorical_accuracy: 0.5805     \n",
      "Epoch 14/200\n",
      "1044/1044 [==============================] - 0s - loss: 1.0409 - categorical_accuracy: 0.5613     \n",
      "Epoch 15/200\n",
      "1044/1044 [==============================] - 0s - loss: 1.0345 - categorical_accuracy: 0.5728     \n",
      "Epoch 16/200\n",
      "1044/1044 [==============================] - 0s - loss: 1.0303 - categorical_accuracy: 0.5680     \n",
      "Epoch 17/200\n",
      "1044/1044 [==============================] - 0s - loss: 1.0316 - categorical_accuracy: 0.5699     \n",
      "Epoch 18/200\n",
      "1044/1044 [==============================] - 0s - loss: 1.0267 - categorical_accuracy: 0.5757     \n",
      "Epoch 19/200\n",
      "1044/1044 [==============================] - 0s - loss: 1.0270 - categorical_accuracy: 0.5718     \n",
      "Epoch 20/200\n",
      "1044/1044 [==============================] - 0s - loss: 1.0291 - categorical_accuracy: 0.5728     \n",
      "Epoch 21/200\n",
      "1044/1044 [==============================] - 0s - loss: 1.0229 - categorical_accuracy: 0.5690     \n",
      "Epoch 22/200\n",
      "1044/1044 [==============================] - 0s - loss: 1.0246 - categorical_accuracy: 0.5699     \n",
      "Epoch 23/200\n",
      "1044/1044 [==============================] - 0s - loss: 1.0200 - categorical_accuracy: 0.5862     \n",
      "Epoch 24/200\n",
      "1044/1044 [==============================] - 0s - loss: 1.0154 - categorical_accuracy: 0.5805     \n",
      "Epoch 25/200\n",
      "1044/1044 [==============================] - 0s - loss: 1.0216 - categorical_accuracy: 0.5718     \n",
      "Epoch 26/200\n",
      "1044/1044 [==============================] - 0s - loss: 1.0262 - categorical_accuracy: 0.5766     \n",
      "Epoch 27/200\n",
      "1044/1044 [==============================] - 0s - loss: 1.0199 - categorical_accuracy: 0.5824     \n",
      "Epoch 28/200\n",
      "1044/1044 [==============================] - 0s - loss: 1.0153 - categorical_accuracy: 0.5805     \n",
      "Epoch 29/200\n",
      "1044/1044 [==============================] - 0s - loss: 1.0121 - categorical_accuracy: 0.5795     \n",
      "Epoch 30/200\n",
      "1044/1044 [==============================] - 0s - loss: 1.0021 - categorical_accuracy: 0.5900     \n",
      "Epoch 31/200\n",
      "1044/1044 [==============================] - 0s - loss: 1.0042 - categorical_accuracy: 0.5872     \n",
      "Epoch 32/200\n",
      "1044/1044 [==============================] - 0s - loss: 1.0021 - categorical_accuracy: 0.5872     \n",
      "Epoch 33/200\n",
      "1044/1044 [==============================] - 0s - loss: 1.0111 - categorical_accuracy: 0.5795     \n",
      "Epoch 34/200\n",
      "1044/1044 [==============================] - 0s - loss: 1.0006 - categorical_accuracy: 0.5843     \n",
      "Epoch 35/200\n",
      "1044/1044 [==============================] - 0s - loss: 1.0035 - categorical_accuracy: 0.5891     \n",
      "Epoch 36/200\n",
      "1044/1044 [==============================] - 0s - loss: 0.9988 - categorical_accuracy: 0.5852     \n",
      "Epoch 37/200\n",
      "1044/1044 [==============================] - 0s - loss: 0.9976 - categorical_accuracy: 0.5833     \n",
      "Epoch 38/200\n",
      "1044/1044 [==============================] - 0s - loss: 1.0037 - categorical_accuracy: 0.5852     \n",
      "Epoch 39/200\n",
      "1044/1044 [==============================] - 0s - loss: 0.9959 - categorical_accuracy: 0.5872     \n",
      "Epoch 40/200\n",
      "1044/1044 [==============================] - 0s - loss: 1.0011 - categorical_accuracy: 0.5910     \n",
      "Epoch 41/200\n",
      "1044/1044 [==============================] - 0s - loss: 0.9904 - categorical_accuracy: 0.5891     \n",
      "Epoch 42/200\n",
      "1044/1044 [==============================] - 0s - loss: 0.9963 - categorical_accuracy: 0.5862     \n",
      "Epoch 43/200\n",
      "1044/1044 [==============================] - 0s - loss: 0.9987 - categorical_accuracy: 0.5852     \n",
      "Epoch 44/200\n",
      "1044/1044 [==============================] - 0s - loss: 0.9931 - categorical_accuracy: 0.5929     \n",
      "Epoch 45/200\n",
      "1044/1044 [==============================] - 0s - loss: 0.9993 - categorical_accuracy: 0.5795     \n",
      "Epoch 46/200\n",
      "1044/1044 [==============================] - 0s - loss: 0.9918 - categorical_accuracy: 0.5872     \n",
      "Epoch 47/200\n",
      "1044/1044 [==============================] - 0s - loss: 0.9946 - categorical_accuracy: 0.5920     \n",
      "Epoch 48/200\n",
      "1044/1044 [==============================] - 0s - loss: 0.9904 - categorical_accuracy: 0.5843     \n",
      "Epoch 49/200\n",
      "1044/1044 [==============================] - 0s - loss: 0.9917 - categorical_accuracy: 0.5852     \n",
      "Epoch 50/200\n",
      "1044/1044 [==============================] - 0s - loss: 0.9884 - categorical_accuracy: 0.5881     \n",
      "Epoch 51/200\n",
      "1044/1044 [==============================] - 0s - loss: 0.9835 - categorical_accuracy: 0.5967     \n",
      "Epoch 52/200\n",
      "1044/1044 [==============================] - 0s - loss: 0.9885 - categorical_accuracy: 0.5814     \n",
      "Epoch 53/200\n",
      "1044/1044 [==============================] - 0s - loss: 0.9858 - categorical_accuracy: 0.5862     \n",
      "Epoch 54/200\n",
      "1044/1044 [==============================] - 0s - loss: 0.9817 - categorical_accuracy: 0.5910     \n",
      "Epoch 55/200\n",
      "1044/1044 [==============================] - 0s - loss: 0.9869 - categorical_accuracy: 0.5948     \n",
      "Epoch 56/200\n",
      "1044/1044 [==============================] - 0s - loss: 0.9817 - categorical_accuracy: 0.5929     \n",
      "Epoch 57/200\n",
      "1044/1044 [==============================] - 0s - loss: 0.9784 - categorical_accuracy: 0.5939     \n",
      "Epoch 58/200\n",
      "1044/1044 [==============================] - 0s - loss: 0.9731 - categorical_accuracy: 0.5967     \n",
      "Epoch 59/200\n",
      "1044/1044 [==============================] - 0s - loss: 0.9730 - categorical_accuracy: 0.5987     \n",
      "Epoch 60/200\n",
      "1044/1044 [==============================] - 0s - loss: 0.9682 - categorical_accuracy: 0.5920     \n",
      "Epoch 61/200\n",
      "1044/1044 [==============================] - 0s - loss: 0.9671 - categorical_accuracy: 0.5920     \n",
      "Epoch 62/200\n",
      "1044/1044 [==============================] - 0s - loss: 0.9791 - categorical_accuracy: 0.5891     \n",
      "Epoch 63/200\n",
      "1044/1044 [==============================] - 0s - loss: 0.9707 - categorical_accuracy: 0.5824     \n",
      "Epoch 64/200\n",
      "1044/1044 [==============================] - 0s - loss: 0.9658 - categorical_accuracy: 0.5958     \n",
      "Epoch 65/200\n",
      "1044/1044 [==============================] - 0s - loss: 0.9677 - categorical_accuracy: 0.5939     \n",
      "Epoch 66/200\n",
      "1044/1044 [==============================] - 0s - loss: 0.9728 - categorical_accuracy: 0.5891     \n",
      "Epoch 67/200\n",
      "1044/1044 [==============================] - 0s - loss: 0.9669 - categorical_accuracy: 0.5900     \n",
      "Epoch 68/200\n",
      "1044/1044 [==============================] - 0s - loss: 0.9610 - categorical_accuracy: 0.5948     \n",
      "Epoch 69/200\n",
      "1044/1044 [==============================] - 0s - loss: 0.9666 - categorical_accuracy: 0.5939     \n",
      "Epoch 70/200\n",
      "1044/1044 [==============================] - 0s - loss: 0.9579 - categorical_accuracy: 0.5929     \n",
      "Epoch 71/200\n",
      "1044/1044 [==============================] - 0s - loss: 0.9615 - categorical_accuracy: 0.5872     \n",
      "Epoch 72/200\n",
      "1044/1044 [==============================] - 0s - loss: 0.9512 - categorical_accuracy: 0.5862     \n",
      "Epoch 73/200\n",
      "1044/1044 [==============================] - 0s - loss: 0.9625 - categorical_accuracy: 0.5862     \n",
      "Epoch 74/200\n",
      "1044/1044 [==============================] - 0s - loss: 0.9589 - categorical_accuracy: 0.5872     \n",
      "Epoch 75/200\n",
      "1044/1044 [==============================] - 0s - loss: 0.9484 - categorical_accuracy: 0.5987     \n",
      "Epoch 76/200\n",
      "1044/1044 [==============================] - 0s - loss: 0.9489 - categorical_accuracy: 0.5939     \n",
      "Epoch 77/200\n",
      "1044/1044 [==============================] - 0s - loss: 0.9509 - categorical_accuracy: 0.5891     \n",
      "Epoch 78/200\n",
      "1044/1044 [==============================] - 0s - loss: 0.9434 - categorical_accuracy: 0.5967     \n",
      "Epoch 79/200\n",
      "1044/1044 [==============================] - 0s - loss: 0.9453 - categorical_accuracy: 0.5939     \n",
      "Epoch 80/200\n",
      "1044/1044 [==============================] - 0s - loss: 0.9437 - categorical_accuracy: 0.6044     \n",
      "Epoch 81/200\n",
      "1044/1044 [==============================] - 0s - loss: 0.9435 - categorical_accuracy: 0.5929     \n",
      "Epoch 82/200\n",
      "1044/1044 [==============================] - 0s - loss: 0.9419 - categorical_accuracy: 0.6082     \n",
      "Epoch 83/200\n",
      "1044/1044 [==============================] - 0s - loss: 0.9442 - categorical_accuracy: 0.5939     \n",
      "Epoch 84/200\n",
      "1044/1044 [==============================] - 0s - loss: 0.9371 - categorical_accuracy: 0.6054     \n",
      "Epoch 85/200\n",
      "1044/1044 [==============================] - 0s - loss: 0.9446 - categorical_accuracy: 0.5881     \n",
      "Epoch 86/200\n",
      "1044/1044 [==============================] - 0s - loss: 0.9313 - categorical_accuracy: 0.6034     \n",
      "Epoch 87/200\n",
      "1044/1044 [==============================] - 0s - loss: 0.9312 - categorical_accuracy: 0.6121     \n",
      "Epoch 88/200\n",
      "1044/1044 [==============================] - 0s - loss: 0.9356 - categorical_accuracy: 0.6102     \n",
      "Epoch 89/200\n",
      "1044/1044 [==============================] - 0s - loss: 0.9342 - categorical_accuracy: 0.6054     \n",
      "Epoch 90/200\n",
      "1044/1044 [==============================] - 0s - loss: 0.9268 - categorical_accuracy: 0.6006     \n",
      "Epoch 91/200\n",
      "1044/1044 [==============================] - 0s - loss: 0.9271 - categorical_accuracy: 0.5996     \n",
      "Epoch 92/200\n",
      "1044/1044 [==============================] - 0s - loss: 0.9280 - categorical_accuracy: 0.5958     \n",
      "Epoch 93/200\n",
      "1044/1044 [==============================] - 0s - loss: 0.9284 - categorical_accuracy: 0.5987     \n",
      "Epoch 94/200\n",
      "1044/1044 [==============================] - 0s - loss: 0.9215 - categorical_accuracy: 0.6102     \n",
      "Epoch 95/200\n",
      "1044/1044 [==============================] - 0s - loss: 0.9206 - categorical_accuracy: 0.6034     \n",
      "Epoch 96/200\n",
      "1044/1044 [==============================] - 0s - loss: 0.9120 - categorical_accuracy: 0.6034     \n",
      "Epoch 97/200\n",
      "1044/1044 [==============================] - 0s - loss: 0.9335 - categorical_accuracy: 0.5996     \n",
      "Epoch 98/200\n",
      "1044/1044 [==============================] - 0s - loss: 0.9100 - categorical_accuracy: 0.6159     \n",
      "Epoch 99/200\n",
      "1044/1044 [==============================] - 0s - loss: 0.9221 - categorical_accuracy: 0.6082     \n",
      "Epoch 100/200\n",
      "1044/1044 [==============================] - 0s - loss: 0.9167 - categorical_accuracy: 0.6006     \n",
      "Epoch 101/200\n",
      "1044/1044 [==============================] - 0s - loss: 0.9187 - categorical_accuracy: 0.6025     \n",
      "Epoch 102/200\n",
      "1044/1044 [==============================] - 0s - loss: 0.9078 - categorical_accuracy: 0.6063     \n",
      "Epoch 103/200\n",
      "1044/1044 [==============================] - 0s - loss: 0.9059 - categorical_accuracy: 0.6015     \n",
      "Epoch 104/200\n",
      "1044/1044 [==============================] - 0s - loss: 0.9105 - categorical_accuracy: 0.6102     \n",
      "Epoch 105/200\n",
      "1044/1044 [==============================] - 0s - loss: 0.9043 - categorical_accuracy: 0.6121     \n",
      "Epoch 106/200\n",
      "1044/1044 [==============================] - 0s - loss: 0.9123 - categorical_accuracy: 0.5977     \n",
      "Epoch 107/200\n",
      "1044/1044 [==============================] - 0s - loss: 0.9009 - categorical_accuracy: 0.6140     \n",
      "Epoch 108/200\n",
      "1044/1044 [==============================] - 0s - loss: 0.9008 - categorical_accuracy: 0.6006     \n",
      "Epoch 109/200\n",
      "1044/1044 [==============================] - 0s - loss: 0.9073 - categorical_accuracy: 0.6044     \n",
      "Epoch 110/200\n",
      "1044/1044 [==============================] - 0s - loss: 0.8955 - categorical_accuracy: 0.6063     \n",
      "Epoch 111/200\n",
      "1044/1044 [==============================] - 0s - loss: 0.8933 - categorical_accuracy: 0.6063     \n",
      "Epoch 112/200\n",
      "1044/1044 [==============================] - 0s - loss: 0.8880 - categorical_accuracy: 0.6149     \n",
      "Epoch 113/200\n",
      "1044/1044 [==============================] - 0s - loss: 0.8953 - categorical_accuracy: 0.6073     \n",
      "Epoch 114/200\n",
      "1044/1044 [==============================] - 0s - loss: 0.8975 - categorical_accuracy: 0.6082     \n",
      "Epoch 115/200\n",
      "1044/1044 [==============================] - 0s - loss: 0.8900 - categorical_accuracy: 0.6216     \n",
      "Epoch 116/200\n",
      "1044/1044 [==============================] - 0s - loss: 0.8822 - categorical_accuracy: 0.6044     \n",
      "Epoch 117/200\n",
      "1044/1044 [==============================] - 0s - loss: 0.8890 - categorical_accuracy: 0.6102     \n",
      "Epoch 118/200\n",
      "1044/1044 [==============================] - 0s - loss: 0.8882 - categorical_accuracy: 0.6140     \n",
      "Epoch 119/200\n",
      "1044/1044 [==============================] - 0s - loss: 0.8935 - categorical_accuracy: 0.6015     \n",
      "Epoch 120/200\n",
      "1044/1044 [==============================] - 0s - loss: 0.8996 - categorical_accuracy: 0.6178     \n",
      "Epoch 121/200\n",
      "1044/1044 [==============================] - 0s - loss: 0.8845 - categorical_accuracy: 0.6149     \n",
      "Epoch 122/200\n",
      "1044/1044 [==============================] - 0s - loss: 0.8875 - categorical_accuracy: 0.6082     \n",
      "Epoch 123/200\n",
      "1044/1044 [==============================] - 0s - loss: 0.8928 - categorical_accuracy: 0.5987     \n",
      "Epoch 124/200\n",
      "1044/1044 [==============================] - 0s - loss: 0.8825 - categorical_accuracy: 0.6149     \n",
      "Epoch 125/200\n",
      "1044/1044 [==============================] - 0s - loss: 0.8706 - categorical_accuracy: 0.6149     \n",
      "Epoch 126/200\n",
      "1044/1044 [==============================] - 0s - loss: 0.8802 - categorical_accuracy: 0.6188     \n",
      "Epoch 127/200\n",
      "1044/1044 [==============================] - 0s - loss: 0.8809 - categorical_accuracy: 0.6178     \n",
      "Epoch 128/200\n",
      "1044/1044 [==============================] - 0s - loss: 0.8875 - categorical_accuracy: 0.6130     \n",
      "Epoch 129/200\n",
      "1044/1044 [==============================] - 0s - loss: 0.8905 - categorical_accuracy: 0.6034     \n",
      "Epoch 130/200\n",
      "1044/1044 [==============================] - 0s - loss: 0.8703 - categorical_accuracy: 0.6418     \n",
      "Epoch 131/200\n",
      "1044/1044 [==============================] - 0s - loss: 0.8757 - categorical_accuracy: 0.6092     \n",
      "Epoch 132/200\n",
      "1044/1044 [==============================] - 0s - loss: 0.8828 - categorical_accuracy: 0.6149     \n",
      "Epoch 133/200\n",
      "1044/1044 [==============================] - 0s - loss: 0.8821 - categorical_accuracy: 0.6245     \n",
      "Epoch 134/200\n",
      "1044/1044 [==============================] - 0s - loss: 0.8707 - categorical_accuracy: 0.6188     \n",
      "Epoch 135/200\n",
      "1044/1044 [==============================] - 0s - loss: 0.8736 - categorical_accuracy: 0.6264     \n",
      "Epoch 136/200\n",
      "1044/1044 [==============================] - 0s - loss: 0.8743 - categorical_accuracy: 0.6169     \n",
      "Epoch 137/200\n",
      "1044/1044 [==============================] - 0s - loss: 0.8693 - categorical_accuracy: 0.6236     \n",
      "Epoch 138/200\n",
      "1044/1044 [==============================] - 0s - loss: 0.8668 - categorical_accuracy: 0.6178     \n",
      "Epoch 139/200\n",
      "1044/1044 [==============================] - 0s - loss: 0.8740 - categorical_accuracy: 0.6293     \n",
      "Epoch 140/200\n",
      "1044/1044 [==============================] - 0s - loss: 0.8749 - categorical_accuracy: 0.6140     \n",
      "Epoch 141/200\n",
      "1044/1044 [==============================] - 0s - loss: 0.8716 - categorical_accuracy: 0.6169     \n",
      "Epoch 142/200\n",
      "1044/1044 [==============================] - 0s - loss: 0.8724 - categorical_accuracy: 0.6236     \n",
      "Epoch 143/200\n",
      "1044/1044 [==============================] - 0s - loss: 0.8659 - categorical_accuracy: 0.6274     \n",
      "Epoch 144/200\n",
      "1044/1044 [==============================] - 0s - loss: 0.8681 - categorical_accuracy: 0.6322     \n",
      "Epoch 145/200\n",
      "1044/1044 [==============================] - 0s - loss: 0.8607 - categorical_accuracy: 0.6293     \n",
      "Epoch 146/200\n",
      "1044/1044 [==============================] - 0s - loss: 0.8676 - categorical_accuracy: 0.6207     \n",
      "Epoch 147/200\n",
      "1044/1044 [==============================] - 0s - loss: 0.8607 - categorical_accuracy: 0.6284     \n",
      "Epoch 148/200\n",
      "1044/1044 [==============================] - 0s - loss: 0.8580 - categorical_accuracy: 0.6207     \n",
      "Epoch 149/200\n",
      "1044/1044 [==============================] - 0s - loss: 0.8801 - categorical_accuracy: 0.6092     \n",
      "Epoch 150/200\n",
      "1044/1044 [==============================] - 0s - loss: 0.8511 - categorical_accuracy: 0.6293     \n",
      "Epoch 151/200\n",
      "1044/1044 [==============================] - 0s - loss: 0.8505 - categorical_accuracy: 0.6245     \n",
      "Epoch 152/200\n",
      "1044/1044 [==============================] - 0s - loss: 0.8671 - categorical_accuracy: 0.6226     \n",
      "Epoch 153/200\n",
      "1044/1044 [==============================] - 0s - loss: 0.8526 - categorical_accuracy: 0.6293     \n",
      "Epoch 154/200\n",
      "1044/1044 [==============================] - 0s - loss: 0.8534 - categorical_accuracy: 0.6149     \n",
      "Epoch 155/200\n",
      "1044/1044 [==============================] - 0s - loss: 0.8665 - categorical_accuracy: 0.6236     \n",
      "Epoch 156/200\n",
      "1044/1044 [==============================] - 0s - loss: 0.8571 - categorical_accuracy: 0.6284     \n",
      "Epoch 157/200\n",
      "1044/1044 [==============================] - 0s - loss: 0.8548 - categorical_accuracy: 0.6264     \n",
      "Epoch 158/200\n",
      "1044/1044 [==============================] - 0s - loss: 0.8548 - categorical_accuracy: 0.6245     \n",
      "Epoch 159/200\n",
      "1044/1044 [==============================] - 0s - loss: 0.8584 - categorical_accuracy: 0.6293     \n",
      "Epoch 160/200\n",
      "1044/1044 [==============================] - 0s - loss: 0.8544 - categorical_accuracy: 0.6303     \n",
      "Epoch 161/200\n",
      "1044/1044 [==============================] - 0s - loss: 0.8550 - categorical_accuracy: 0.6236     \n",
      "Epoch 162/200\n",
      "1044/1044 [==============================] - 0s - loss: 0.8446 - categorical_accuracy: 0.6274     \n",
      "Epoch 163/200\n",
      "1044/1044 [==============================] - 0s - loss: 0.8479 - categorical_accuracy: 0.6312     \n",
      "Epoch 164/200\n",
      "1044/1044 [==============================] - 0s - loss: 0.8506 - categorical_accuracy: 0.6245     \n",
      "Epoch 165/200\n",
      "1044/1044 [==============================] - 0s - loss: 0.8532 - categorical_accuracy: 0.6255     \n",
      "Epoch 166/200\n",
      "1044/1044 [==============================] - 0s - loss: 0.8564 - categorical_accuracy: 0.6331     \n",
      "Epoch 167/200\n",
      "1044/1044 [==============================] - 0s - loss: 0.8558 - categorical_accuracy: 0.6245     \n",
      "Epoch 168/200\n",
      "1044/1044 [==============================] - 0s - loss: 0.8487 - categorical_accuracy: 0.6226     \n",
      "Epoch 169/200\n",
      "1044/1044 [==============================] - 0s - loss: 0.8521 - categorical_accuracy: 0.6216     \n",
      "Epoch 170/200\n",
      "1044/1044 [==============================] - 0s - loss: 0.8527 - categorical_accuracy: 0.6351     \n",
      "Epoch 171/200\n",
      "1044/1044 [==============================] - 0s - loss: 0.8502 - categorical_accuracy: 0.6379     \n",
      "Epoch 172/200\n",
      "1044/1044 [==============================] - 0s - loss: 0.8455 - categorical_accuracy: 0.6284     \n",
      "Epoch 173/200\n",
      "1044/1044 [==============================] - 0s - loss: 0.8611 - categorical_accuracy: 0.6351     \n",
      "Epoch 174/200\n",
      "1044/1044 [==============================] - 0s - loss: 0.8566 - categorical_accuracy: 0.6408     \n",
      "Epoch 175/200\n",
      "1044/1044 [==============================] - 0s - loss: 0.8501 - categorical_accuracy: 0.6408     \n",
      "Epoch 176/200\n",
      "1044/1044 [==============================] - 0s - loss: 0.8572 - categorical_accuracy: 0.6293     \n",
      "Epoch 177/200\n",
      "1044/1044 [==============================] - 0s - loss: 0.8340 - categorical_accuracy: 0.6408     \n",
      "Epoch 178/200\n",
      "1044/1044 [==============================] - 0s - loss: 0.8463 - categorical_accuracy: 0.6226     \n",
      "Epoch 179/200\n",
      "1044/1044 [==============================] - 0s - loss: 0.8493 - categorical_accuracy: 0.6274     \n",
      "Epoch 180/200\n",
      "1044/1044 [==============================] - 0s - loss: 0.8507 - categorical_accuracy: 0.6341     \n",
      "Epoch 181/200\n",
      "1044/1044 [==============================] - 0s - loss: 0.8418 - categorical_accuracy: 0.6322     \n",
      "Epoch 182/200\n",
      "1044/1044 [==============================] - 0s - loss: 0.8363 - categorical_accuracy: 0.6398     \n",
      "Epoch 183/200\n",
      "1044/1044 [==============================] - 0s - loss: 0.8392 - categorical_accuracy: 0.6245     \n",
      "Epoch 184/200\n",
      "1044/1044 [==============================] - 0s - loss: 0.8501 - categorical_accuracy: 0.6322     \n",
      "Epoch 185/200\n",
      "1044/1044 [==============================] - 0s - loss: 0.8387 - categorical_accuracy: 0.6379     \n",
      "Epoch 186/200\n",
      "1044/1044 [==============================] - 0s - loss: 0.8474 - categorical_accuracy: 0.6446     \n",
      "Epoch 187/200\n",
      "1044/1044 [==============================] - 0s - loss: 0.8355 - categorical_accuracy: 0.6437     \n",
      "Epoch 188/200\n",
      "1044/1044 [==============================] - 0s - loss: 0.8439 - categorical_accuracy: 0.6322     \n",
      "Epoch 189/200\n",
      "1044/1044 [==============================] - 0s - loss: 0.8368 - categorical_accuracy: 0.6398     \n",
      "Epoch 190/200\n",
      "1044/1044 [==============================] - 0s - loss: 0.8322 - categorical_accuracy: 0.6379     \n",
      "Epoch 191/200\n",
      "1044/1044 [==============================] - 0s - loss: 0.8493 - categorical_accuracy: 0.6389     \n",
      "Epoch 192/200\n",
      "1044/1044 [==============================] - 0s - loss: 0.8406 - categorical_accuracy: 0.6379     \n",
      "Epoch 193/200\n",
      "1044/1044 [==============================] - 0s - loss: 0.8323 - categorical_accuracy: 0.6542     \n",
      "Epoch 194/200\n",
      "1044/1044 [==============================] - 0s - loss: 0.8923 - categorical_accuracy: 0.6245     \n",
      "Epoch 195/200\n",
      "1044/1044 [==============================] - 0s - loss: 0.8245 - categorical_accuracy: 0.6389     \n",
      "Epoch 196/200\n",
      "1044/1044 [==============================] - 0s - loss: 0.8327 - categorical_accuracy: 0.6523     \n",
      "Epoch 197/200\n",
      "1044/1044 [==============================] - 0s - loss: 0.8319 - categorical_accuracy: 0.6552     \n",
      "Epoch 198/200\n",
      "1044/1044 [==============================] - 0s - loss: 0.8336 - categorical_accuracy: 0.6360     \n",
      "Epoch 199/200\n",
      "1044/1044 [==============================] - 0s - loss: 0.8305 - categorical_accuracy: 0.6475     \n",
      "Epoch 200/200\n",
      "1044/1044 [==============================] - 0s - loss: 0.8428 - categorical_accuracy: 0.6264     \n"
     ]
    }
   ],
   "source": [
    "train_and_test_model(compile_model(model_nn()), X_train, Y_train, bs=16, epoch=200)"
   ]
  },
  {
   "cell_type": "markdown",
   "metadata": {},
   "source": [
    "### Визуализация\n",
    "Была выполнена попытка визуализировать данные на плоскости. Никаких содерательных выводов, на основании полученной визуализации, сделать не удалось."
   ]
  },
  {
   "cell_type": "code",
   "execution_count": 59,
   "metadata": {
    "collapsed": false
   },
   "outputs": [],
   "source": [
    "from sklearn.decomposition import PCA\n",
    "\n",
    "\n",
    "model_pca = PCA(n_components=2)\n",
    "vis_data = model_pca.fit_transform(train) "
   ]
  },
  {
   "cell_type": "code",
   "execution_count": 61,
   "metadata": {
    "collapsed": false
   },
   "outputs": [
    {
     "name": "stdout",
     "output_type": "stream",
     "text": [
      "Populating the interactive namespace from numpy and matplotlib\n"
     ]
    },
    {
     "data": {
      "image/png": "[encoded data removed]",
      "text/plain": [
       "<matplotlib.figure.Figure at 0x7f22a0216198>"
      ]
     },
     "metadata": {},
     "output_type": "display_data"
    }
   ],
   "source": [
    "%pylab inline\n",
    "pylab.rcParams['figure.figsize'] = (6, 6)\n",
    "\n",
    "# plot the result\n",
    "vis_x = vis_data[:, 0]\n",
    "vis_y = vis_data[:, 1]\n",
    "\n",
    "plt.scatter(vis_x, vis_y, c=target, cmap=plt.cm.get_cmap(\"jet\", 5))\n",
    "plt.colorbar(ticks=range(5))\n",
    "plt.clim(1, 5)\n",
    "plt.show()"
   ]
  },
  {
   "cell_type": "markdown",
   "metadata": {},
   "source": [
    "### Вывод\n",
    "По результатам тестирования, лучшим классификатором оказался Random Forest"
   ]
  }
 ],
 "metadata": {
  "anaconda-cloud": {},
  "kernelspec": {
   "display_name": "Python [conda root]",
   "language": "python",
   "name": "conda-root-py"
  },
  "language_info": {
   "codemirror_mode": {
    "name": "ipython",
    "version": 3
   },
   "file_extension": ".py",
   "mimetype": "text/x-python",
   "name": "python",
   "nbconvert_exporter": "python",
   "pygments_lexer": "ipython3",
   "version": "3.5.2"
  }
 },
 "nbformat": 4,
 "nbformat_minor": 1
}
