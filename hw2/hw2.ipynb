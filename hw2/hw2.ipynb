{
 "cells": [
  {
   "cell_type": "code",
   "execution_count": 2,
   "metadata": {
    "collapsed": false
   },
   "outputs": [],
   "source": [
    "import csv\n",
    "\n",
    "reviews = {}\n",
    "with open('IMDB_reviews.tsv','r') as tsvin:\n",
    "    tsvin = csv.reader(tsvin, delimiter='\\t')\n",
    "    for row in tsvin:\n",
    "        reviews[row[0]] = row[1:]"
   ]
  },
  {
   "cell_type": "code",
   "execution_count": 3,
   "metadata": {
    "collapsed": false
   },
   "outputs": [
    {
     "name": "stdout",
     "output_type": "stream",
     "text": [
      "Me being of Irish origins, loved this movie, Not only was the guy hot and funny he was also sincere and honest. I loved the girl who he fell in love with too, she was pretty. They were such a cute couple. The ending was so sad. Love this movie! Although it is a little dirty, it reminds of a British or Irish version of Prime. If you liked this movie you should watch prime. Same story line young guy falls for older women, older women falls for young guy to. A lot of paths cross, in the end, the best decision is made or task is completed. Don't have anything else to say, without ruining the whole movie, all though I thought the french guy was ugly, less appealing to me. Umm...if you like Irish movies, I would recommend \\Circle of Friends\\\" ,that movie is so good. Quick quote, you might not get unless you watch it\\\" well, thats my dinner ruined.\\\" LOL\"\n"
     ]
    }
   ],
   "source": [
    "import nltk\n",
    "\n",
    "print(reviews['785_9'][1])"
   ]
  },
  {
   "cell_type": "code",
   "execution_count": 4,
   "metadata": {
    "collapsed": false
   },
   "outputs": [],
   "source": [
    "for k in reviews.keys():\n",
    "    reviews[k][1] = nltk.sent_tokenize(reviews[k][1])"
   ]
  },
  {
   "cell_type": "code",
   "execution_count": 5,
   "metadata": {
    "collapsed": false
   },
   "outputs": [
    {
     "name": "stdout",
     "output_type": "stream",
     "text": [
      "['Me being of Irish origins, loved this movie, Not only was the guy hot and funny he was also sincere and honest.', 'I loved the girl who he fell in love with too, she was pretty.', 'They were such a cute couple.', 'The ending was so sad.', 'Love this movie!', 'Although it is a little dirty, it reminds of a British or Irish version of Prime.', 'If you liked this movie you should watch prime.', 'Same story line young guy falls for older women, older women falls for young guy to.', 'A lot of paths cross, in the end, the best decision is made or task is completed.', \"Don't have anything else to say, without ruining the whole movie, all though I thought the french guy was ugly, less appealing to me.\", 'Umm...if you like Irish movies, I would recommend \\\\Circle of Friends\\\\\" ,that movie is so good.', 'Quick quote, you might not get unless you watch it\\\\\" well, thats my dinner ruined.\\\\\" LOL\"']\n"
     ]
    }
   ],
   "source": [
    "print(reviews['785_9'][1])"
   ]
  },
  {
   "cell_type": "code",
   "execution_count": 6,
   "metadata": {
    "collapsed": false
   },
   "outputs": [
    {
     "name": "stdout",
     "output_type": "stream",
     "text": [
      "showing info https://raw.githubusercontent.com/nltk/nltk_data/gh-pages/index.xml\n"
     ]
    },
    {
     "data": {
      "text/plain": [
       "True"
      ]
     },
     "execution_count": 6,
     "metadata": {},
     "output_type": "execute_result"
    }
   ],
   "source": [
    "import string\n",
    "import nltk\n",
    "from nltk.tokenize import RegexpTokenizer\n",
    "from nltk.corpus import stopwords\n",
    "import re\n",
    "\n",
    "nltk.download()"
   ]
  },
  {
   "cell_type": "code",
   "execution_count": 7,
   "metadata": {
    "collapsed": false
   },
   "outputs": [],
   "source": [
    "from nltk.stem.porter import PorterStemmer\n",
    "\n",
    "\n",
    "stemmer = PorterStemmer()\n",
    "\n",
    "def preprocess(sentence):\n",
    "    sentence = sentence.lower()\n",
    "    tokenizer = RegexpTokenizer(r'\\w+')\n",
    "    tokens = tokenizer.tokenize(sentence)\n",
    "    sw = set(stopwords.words('english'))\n",
    "    return [stemmer.stem(w) for w in tokens if not w in sw]\n",
    "\n",
    "for k in reviews.keys():\n",
    "    w = []\n",
    "    for sentence in reviews[k][1]:\n",
    "        w.append(preprocess(sentence))\n",
    "    reviews[k][1] = w"
   ]
  },
  {
   "cell_type": "code",
   "execution_count": 8,
   "metadata": {
    "collapsed": false
   },
   "outputs": [
    {
     "name": "stdout",
     "output_type": "stream",
     "text": [
      "[['irish', 'origin', 'love', 'movi', 'guy', 'hot', 'funni', 'also', 'sincer', 'honest'], ['love', 'girl', 'fell', 'love', 'pretti'], ['cute', 'coupl'], ['end', 'sad'], ['love', 'movi'], ['although', 'littl', 'dirti', 'remind', 'british', 'irish', 'version', 'prime'], ['like', 'movi', 'watch', 'prime'], ['stori', 'line', 'young', 'guy', 'fall', 'older', 'women', 'older', 'women', 'fall', 'young', 'guy'], ['lot', 'path', 'cross', 'end', 'best', 'decis', 'made', 'task', 'complet'], ['anyth', 'els', 'say', 'without', 'ruin', 'whole', 'movi', 'though', 'thought', 'french', 'guy', 'ugli', 'less', 'appeal'], ['umm', 'like', 'irish', 'movi', 'would', 'recommend', 'circl', 'friend', 'movi', 'good'], ['quick', 'quot', 'might', 'get', 'unless', 'watch', 'well', 'that', 'dinner', 'ruin', 'lol']]\n"
     ]
    }
   ],
   "source": [
    "print(reviews['785_9'][1])"
   ]
  },
  {
   "cell_type": "code",
   "execution_count": 9,
   "metadata": {
    "collapsed": false
   },
   "outputs": [],
   "source": [
    "from scipy import sparse\n",
    "from collections import defaultdict\n",
    "import math\n",
    "\n",
    "\n",
    "def construct_PPMI_matrix(sents, l=2, r=2):\n",
    "    w_freq = defaultdict(int)\n",
    "    c_freq = defaultdict(int)\n",
    "    f_freq = defaultdict(int)\n",
    "    combs = defaultdict(set)\n",
    "    for sent in sents:\n",
    "        s = sent # s = sent.split()\n",
    "        n = len(s)\n",
    "        for i in range(n):\n",
    "            w = (s[i], )\n",
    "            cl = tuple(s[max(i - l, 0): i])\n",
    "            cr = tuple(s[i + 1: min(n, i + 1 + r)])\n",
    "            \n",
    "            w_freq[w] += 1\n",
    "            c_freq[cl + cr] += 1\n",
    "            f_freq[cl + w + cr] += 1\n",
    "            combs[w].add((cl, cr))\n",
    "    w_map = {w: i for i, w in enumerate(w_freq)}\n",
    "    c_map = {c: i for i, c in enumerate(c_freq)}\n",
    "    V = len(w_map)\n",
    "\n",
    "    S = sparse.lil_matrix((len(w_freq), len(c_freq)))\n",
    "    for w in combs:\n",
    "        for (cl, cr) in combs[w]:\n",
    "            S[w_map[w], c_map[cl + cr]] = \\\n",
    "                math.log(f_freq[cl + w + cr] * V /\n",
    "                         (w_freq[w] * c_freq[cl + cr]))\n",
    "    \n",
    "    return S, w_map, w_freq"
   ]
  },
  {
   "cell_type": "code",
   "execution_count": 10,
   "metadata": {
    "collapsed": false
   },
   "outputs": [
    {
     "name": "stdout",
     "output_type": "stream",
     "text": [
      "['wil', 'bizarr', 'adapt', 'borg', 'short', 'stori', 'typic', 'cox']\n"
     ]
    }
   ],
   "source": [
    "sents = []\n",
    "for k in reviews.keys():\n",
    "    for sentence in reviews[k][1]:\n",
    "        sents.append(sentence)\n",
    "\n",
    "print(sents[0])"
   ]
  },
  {
   "cell_type": "code",
   "execution_count": 11,
   "metadata": {
    "collapsed": false
   },
   "outputs": [],
   "source": [
    "S, w_map, w_freq = construct_PPMI_matrix(sents)"
   ]
  },
  {
   "cell_type": "code",
   "execution_count": 12,
   "metadata": {
    "collapsed": false
   },
   "outputs": [],
   "source": [
    "from sklearn.decomposition import TruncatedSVD\n",
    "\n",
    "\n",
    "svd = TruncatedSVD(n_components=2)\n",
    "reprs = svd.fit_transform(S)"
   ]
  },
  {
   "cell_type": "code",
   "execution_count": 13,
   "metadata": {
    "collapsed": false
   },
   "outputs": [
    {
     "data": {
      "image/png": "[encoded data removed]",
      "text/plain": [
       "<matplotlib.figure.Figure at 0x7f9779ce9080>"
      ]
     },
     "metadata": {},
     "output_type": "display_data"
    }
   ],
   "source": [
    "%matplotlib inline\n",
    "import matplotlib.pyplot as plt\n",
    "\n",
    "\n",
    "freq_list = []\n",
    "for x in w_freq:\n",
    "    if len(x[0]) >= 4:\n",
    "        freq_list.append((x, w_freq[x]))\n",
    "    \n",
    "freq_list.sort(key=lambda x: -x[1])\n",
    "\n",
    "x = []\n",
    "y = []\n",
    "w = []\n",
    "for i in range(20):\n",
    "    wp = freq_list[i][0]\n",
    "    c = reprs[w_map[wp]]\n",
    "    w.append(wp[0])\n",
    "    x.append(c[0])\n",
    "    y.append(c[1])\n",
    "\n",
    "\n",
    "fig, ax = plt.subplots()\n",
    "ax.scatter(x, y)\n",
    "\n",
    "for i, txt in enumerate(w):\n",
    "    ax.annotate(txt, (x[i],y[i]))"
   ]
  },
  {
   "cell_type": "code",
   "execution_count": 14,
   "metadata": {
    "collapsed": false
   },
   "outputs": [],
   "source": [
    "import gensim"
   ]
  },
  {
   "cell_type": "code",
   "execution_count": 15,
   "metadata": {
    "collapsed": false
   },
   "outputs": [],
   "source": [
    "model = gensim.models.Word2Vec(sents)"
   ]
  },
  {
   "cell_type": "code",
   "execution_count": 16,
   "metadata": {
    "collapsed": false
   },
   "outputs": [],
   "source": [
    "from sklearn.manifold import TSNE\n",
    "\n",
    "\n",
    "tsne = TSNE(n_components=2, random_state=0)\n",
    "\n",
    "X = []\n",
    "for i in range(20):\n",
    "    wp = freq_list[i][0]\n",
    "    X.append(model[wp[0]])"
   ]
  },
  {
   "cell_type": "code",
   "execution_count": 17,
   "metadata": {
    "collapsed": false
   },
   "outputs": [],
   "source": [
    "C = tsne.fit_transform(X)"
   ]
  },
  {
   "cell_type": "code",
   "execution_count": 18,
   "metadata": {
    "collapsed": false
   },
   "outputs": [
    {
     "data": {
      "image/png": "[encoded data removed]",
      "text/plain": [
       "<matplotlib.figure.Figure at 0x7f976fcf7940>"
      ]
     },
     "metadata": {},
     "output_type": "display_data"
    }
   ],
   "source": [
    "x = []\n",
    "y = []\n",
    "w = []\n",
    "\n",
    "xmin = 1e9\n",
    "xmax = -1e9\n",
    "ymin = 1e9\n",
    "ymax = -1e9\n",
    "\n",
    "for i in range(20):\n",
    "    wp = freq_list[i][0]\n",
    "    w.append(wp[0])\n",
    "    x.append(C[i][0])\n",
    "    y.append(C[i][1])\n",
    "    xmin = min(xmin, C[i][0])\n",
    "    xmax = max(xmax, C[i][0])\n",
    "    ymin = min(ymin, C[i][1])\n",
    "    ymax = max(ymax, C[i][1])\n",
    "\n",
    "fig, ax = plt.subplots()\n",
    "ax.scatter(x, y)\n",
    "ax.set_xlim([xmin,xmax])\n",
    "ax.set_ylim([ymin,ymax])\n",
    "\n",
    "\n",
    "for i, txt in enumerate(w):\n",
    "    ax.annotate(txt, (x[i],y[i]))"
   ]
  },
  {
   "cell_type": "code",
   "execution_count": 19,
   "metadata": {
    "collapsed": false
   },
   "outputs": [],
   "source": [
    "import numpy as np\n",
    "from sklearn.model_selection import StratifiedShuffleSplit\n",
    "\n",
    "X = []\n",
    "y = []\n",
    "\n",
    "reviews.pop('id', None)\n",
    "\n",
    "for k in reviews.keys():\n",
    "    y.append(int(reviews[k][0]))\n",
    "    X.append(k)\n",
    "\n",
    "X = np.array(X)\n",
    "y = np.array(y)\n",
    "    \n",
    "X_train = None\n",
    "X_test = None\n",
    "y_train = None\n",
    "y_test = None\n",
    "    \n",
    "sss = StratifiedShuffleSplit(n_splits=1, test_size=0.1, random_state=0)\n",
    "for train_index, test_index in sss.split(X, y):\n",
    "    X_train, X_test = X[train_index], X[test_index]\n",
    "    y_train, y_test = y[train_index], y[test_index]"
   ]
  },
  {
   "cell_type": "code",
   "execution_count": 42,
   "metadata": {
    "collapsed": false
   },
   "outputs": [
    {
     "name": "stdout",
     "output_type": "stream",
     "text": [
      "1.0 1.0 1.0\n"
     ]
    }
   ],
   "source": [
    "def prop(X):\n",
    "    pos_cnt, neg_cnt = 0, 0\n",
    "\n",
    "    for k in X:\n",
    "        m = int(reviews[k][0])\n",
    "        if m == 0:\n",
    "            neg_cnt += 1\n",
    "        else:\n",
    "            pos_cnt += 1\n",
    "\n",
    "    return pos_cnt / neg_cnt\n",
    "\n",
    "print(prop(X), prop(X_train), prop(X_test))"
   ]
  },
  {
   "cell_type": "code",
   "execution_count": 20,
   "metadata": {
    "collapsed": false
   },
   "outputs": [],
   "source": [
    "def pos_neg_freq(reviews):\n",
    "    neg_freq = {}\n",
    "    pos_freq = {}\n",
    "\n",
    "    for i in range(len(X_train)):\n",
    "        k = X_train[i]\n",
    "        if y_train[i] == 1:\n",
    "            for s in reviews[k][1]:\n",
    "                for w in s:\n",
    "                    b = pos_freq.get(w, 0)\n",
    "                    pos_freq[w] = b + 1\n",
    "        else:\n",
    "            for s in reviews[k][1]:\n",
    "                for w in s:\n",
    "                    b = neg_freq.get(w, 0)\n",
    "                    neg_freq[w] = b + 1\n",
    "    return pos_freq, neg_freq\n",
    "\n",
    "pos_freq, neg_freq = pos_neg_freq(reviews)"
   ]
  },
  {
   "cell_type": "code",
   "execution_count": 21,
   "metadata": {
    "collapsed": false
   },
   "outputs": [
    {
     "name": "stdout",
     "output_type": "stream",
     "text": [
      "1732 6650\n"
     ]
    }
   ],
   "source": [
    "print(pos_freq.get('bad',0), neg_freq.get('bad', 0))"
   ]
  },
  {
   "cell_type": "code",
   "execution_count": 44,
   "metadata": {
    "collapsed": false
   },
   "outputs": [
    {
     "name": "stdout",
     "output_type": "stream",
     "text": [
      "0.7948\n"
     ]
    }
   ],
   "source": [
    "def evaluate(reviews, pos_freq, neg_freq):\n",
    "    err = 0\n",
    "\n",
    "    for i in range(len(X_test)):\n",
    "        k = X_test[i]\n",
    "        pos = 0\n",
    "        neg = 0\n",
    "        for s in reviews[k][1]:\n",
    "            for w in s:\n",
    "                if pos_freq.get(w,0) >= neg_freq.get(w, 0):\n",
    "                    pos += 1\n",
    "                else:\n",
    "                    neg += 1\n",
    "        ans = 0\n",
    "        if pos >= neg:\n",
    "            ans = 1\n",
    "        if ans != y_test[i]:\n",
    "            err += 1\n",
    "\n",
    "    return (len(X_test) - err) / len(X_test)\n",
    "\n",
    "print(evaluate(reviews, pos_freq, neg_freq))"
   ]
  },
  {
   "cell_type": "code",
   "execution_count": 23,
   "metadata": {
    "collapsed": false
   },
   "outputs": [],
   "source": [
    "from collections import defaultdict\n",
    "import itertools\n",
    "import nltk.classify.util, nltk.metrics\n",
    "from nltk.classify import NaiveBayesClassifier\n",
    "from nltk.corpus import movie_reviews\n",
    "from nltk.metrics.scores import precision, recall\n",
    "\n",
    "\n",
    "def evaluate_classifier(features_extractor, train, test):\n",
    "    \"\"\"\n",
    "         features_extractor - function for extraction features from review. \n",
    "         train, test - samples\n",
    "    \"\"\"\n",
    "    train_feats = [(features_extractor(review), sent) for review, sent in train]\n",
    "    test_feats = [(features_extractor(review), sent) for review, sent in test]\n",
    " \n",
    "    classifier = NaiveBayesClassifier.train(train_feats)\n",
    "    refsets = defaultdict(set)\n",
    "    testsets = defaultdict(set)\n",
    " \n",
    "    for i, (feats, label) in enumerate(test_feats):\n",
    "            refsets[label].add(i)\n",
    "            observed = classifier.classify(feats)\n",
    "            testsets[observed].add(i)\n",
    " \n",
    "    print('accuracy:', nltk.classify.util.accuracy(classifier, test_feats))\n",
    "    print('pos precision:', precision(refsets[1], testsets[1]))\n",
    "    print('pos recall:', recall(refsets[1], testsets[1]))\n",
    "    print('neg precision:', precision(refsets[0], testsets[0]))\n",
    "    print('neg recall:', recall(refsets[0], testsets[0]))\n",
    "    classifier.show_most_informative_features()"
   ]
  },
  {
   "cell_type": "code",
   "execution_count": 24,
   "metadata": {
    "collapsed": false
   },
   "outputs": [],
   "source": [
    "def prep(X, y):\n",
    "    X_new = []\n",
    "    for i in range(len(X)):\n",
    "        k = X[i]\n",
    "        words = []\n",
    "        for s in reviews[k][1]:\n",
    "            for w in s:\n",
    "                words.append(w)\n",
    "        X_new.append((words, y[i]))\n",
    "    \n",
    "    return X_new    "
   ]
  },
  {
   "cell_type": "code",
   "execution_count": 25,
   "metadata": {
    "collapsed": false
   },
   "outputs": [],
   "source": [
    "train = prep(X_train, y_train)\n",
    "test = prep(X_test, y_test)"
   ]
  },
  {
   "cell_type": "code",
   "execution_count": 26,
   "metadata": {
    "collapsed": false
   },
   "outputs": [
    {
     "name": "stdout",
     "output_type": "stream",
     "text": [
      "accuracy: 0.8592\n",
      "pos precision: 0.8277372262773722\n",
      "pos recall: 0.9072\n",
      "neg precision: 0.8973451327433628\n",
      "neg recall: 0.8112\n",
      "Most Informative Features\n",
      "                    boll = True                0 : 1      =     33.0 : 1.0\n",
      "                     uwe = True                0 : 1      =     32.3 : 1.0\n",
      "                     edi = True                1 : 0      =     25.0 : 1.0\n",
      "                   dreck = True                0 : 1      =     20.7 : 1.0\n",
      "                intermin = True                0 : 1      =     19.7 : 1.0\n",
      "                 harriet = True                1 : 0      =     19.7 : 1.0\n",
      "                   capot = True                1 : 0      =     19.0 : 1.0\n",
      "                   wayan = True                0 : 1      =     19.0 : 1.0\n",
      "                    ajay = True                0 : 1      =     18.3 : 1.0\n",
      "                  flimsi = True                0 : 1      =     18.2 : 1.0\n"
     ]
    }
   ],
   "source": [
    "def word_feats(words):\n",
    "    return dict([(word, True) for word in words])\n",
    "\n",
    "evaluate_classifier(word_feats, train, test)"
   ]
  },
  {
   "cell_type": "code",
   "execution_count": 27,
   "metadata": {
    "collapsed": false
   },
   "outputs": [
    {
     "name": "stdout",
     "output_type": "stream",
     "text": [
      "accuracy: 0.886\n",
      "pos precision: 0.8731631863882444\n",
      "pos recall: 0.9032\n",
      "neg precision: 0.899751449875725\n",
      "neg recall: 0.8688\n",
      "Most Informative Features\n",
      "       ('worst', 'film') = True                0 : 1      =     95.4 : 1.0\n",
      "        ('hour', 'life') = True                0 : 1      =     48.3 : 1.0\n",
      "         ('br', 'worst') = True                0 : 1      =     48.3 : 1.0\n",
      "       ('total', 'wast') = True                0 : 1      =     47.7 : 1.0\n",
      "          ('movi', 'aw') = True                0 : 1      =     39.7 : 1.0\n",
      "       ('even', 'worth') = True                0 : 1      =     39.0 : 1.0\n",
      "            ('aw', 'br') = True                0 : 1      =     38.3 : 1.0\n",
      "         ('skip', 'one') = True                0 : 1      =     37.0 : 1.0\n",
      "       ('worst', 'movi') = True                0 : 1      =     34.8 : 1.0\n",
      "        ('piec', 'crap') = True                0 : 1      =     34.4 : 1.0\n"
     ]
    }
   ],
   "source": [
    "from nltk.collocations import BigramCollocationFinder\n",
    "\n",
    "\n",
    "def freq_scorer(n_ii, n_ix_xi_tuple, n_xx):\n",
    "    return n_ii / n_xx\n",
    "\n",
    "def bigram_word_feats(words, score_fn=freq_scorer, n=200):\n",
    "    bigram_finder = BigramCollocationFinder.from_words(words)\n",
    "    bigrams = bigram_finder.nbest(score_fn, n)\n",
    "    return dict([(ngram, True) for ngram in itertools.chain(words, bigrams)])\n",
    " \n",
    "evaluate_classifier(bigram_word_feats, train, test)"
   ]
  },
  {
   "cell_type": "code",
   "execution_count": 28,
   "metadata": {
    "collapsed": false
   },
   "outputs": [
    {
     "name": "stdout",
     "output_type": "stream",
     "text": [
      "accuracy: 0.8848\n",
      "pos precision: 0.8722910216718266\n",
      "pos recall: 0.9016\n",
      "neg precision: 0.8981788079470199\n",
      "neg recall: 0.868\n",
      "Most Informative Features\n",
      "       ('worst', 'film') = True                0 : 1      =     95.0 : 1.0\n",
      "             ('2', '10') = True                0 : 1      =     51.6 : 1.0\n",
      "        ('hour', 'life') = True                0 : 1      =     47.7 : 1.0\n",
      "             ('3', '10') = True                0 : 1      =     47.2 : 1.0\n",
      "             ('0', '10') = True                0 : 1      =     38.3 : 1.0\n",
      "         ('skip', 'one') = True                0 : 1      =     37.7 : 1.0\n",
      "       ('even', 'worth') = True                0 : 1      =     37.0 : 1.0\n",
      "        ('piec', 'crap') = True                0 : 1      =     36.4 : 1.0\n",
      "          ('movi', 'aw') = True                0 : 1      =     36.3 : 1.0\n",
      "      ('read', 'script') = True                0 : 1      =     36.3 : 1.0\n"
     ]
    }
   ],
   "source": [
    "def chi_square_scorer(n_ii, n_ix_xi_tuple, n_xx):\n",
    "    (n_ix, n_xi) = n_ix_xi_tuple\n",
    "    n_oi = n_xi - n_ii\n",
    "    n_io = n_ix - n_ii\n",
    "    n_oo = n_xx - n_ii - n_oi - n_io\n",
    "    chi_sq = n_xx * ((n_ii*n_oo - n_io*n_oi)**2 / \n",
    "                    ((n_ii + n_io) * (n_ii + n_oi) * (n_io + n_oo) * (n_oi + n_oo)))\n",
    "    return chi_sq\n",
    "\n",
    "def bigram_word_feats(words, score_fn=chi_square_scorer, n=200):\n",
    "    bigram_finder = BigramCollocationFinder.from_words(words)\n",
    "    bigrams = bigram_finder.nbest(score_fn, n)\n",
    "    return dict([(ngram, True) for ngram in itertools.chain(words, bigrams)])\n",
    " \n",
    "evaluate_classifier(bigram_word_feats, train, test)"
   ]
  },
  {
   "cell_type": "code",
   "execution_count": 29,
   "metadata": {
    "collapsed": false
   },
   "outputs": [],
   "source": [
    "def prep(X):\n",
    "    X_new = []\n",
    "    for i in range(len(X)):\n",
    "        s = []\n",
    "        for j in range(100):\n",
    "            s.append(0)\n",
    "        \n",
    "        c = 0\n",
    "        for w in X[i][0]:\n",
    "            if w in model:\n",
    "                c += 1\n",
    "                for j in range(100):\n",
    "                    s[j] += model[w][j]\n",
    "        \n",
    "        for j in range(100):\n",
    "            s[j] /= c\n",
    "        X_new.append(s)\n",
    "    return X_new\n",
    "\n",
    "train_dataset = prep(train)\n",
    "test_dataset = prep(test)"
   ]
  },
  {
   "cell_type": "code",
   "execution_count": 1,
   "metadata": {
    "collapsed": false
   },
   "outputs": [
    {
     "ename": "ImportError",
     "evalue": "No module named 'keras'",
     "output_type": "error",
     "traceback": [
      "\u001b[0;31m---------------------------------------------------------------------------\u001b[0m",
      "\u001b[0;31mImportError\u001b[0m                               Traceback (most recent call last)",
      "\u001b[0;32m<ipython-input-1-0de597166332>\u001b[0m in \u001b[0;36m<module>\u001b[0;34m()\u001b[0m\n\u001b[0;32m----> 1\u001b[0;31m \u001b[0;32mfrom\u001b[0m \u001b[0mkeras\u001b[0m\u001b[0;34m.\u001b[0m\u001b[0mmodels\u001b[0m \u001b[0;32mimport\u001b[0m \u001b[0mSequential\u001b[0m\u001b[0;34m\u001b[0m\u001b[0m\n\u001b[0m\u001b[1;32m      2\u001b[0m \u001b[0;32mfrom\u001b[0m \u001b[0mkeras\u001b[0m\u001b[0;34m.\u001b[0m\u001b[0mlayers\u001b[0m \u001b[0;32mimport\u001b[0m \u001b[0mDense\u001b[0m\u001b[0;34m,\u001b[0m \u001b[0mActivation\u001b[0m\u001b[0;34m,\u001b[0m \u001b[0mConvolution2D\u001b[0m\u001b[0;34m,\u001b[0m \u001b[0mFlatten\u001b[0m\u001b[0;34m,\u001b[0m \u001b[0mReshape\u001b[0m\u001b[0;34m\u001b[0m\u001b[0m\n\u001b[1;32m      3\u001b[0m \u001b[0;32mfrom\u001b[0m \u001b[0mkeras\u001b[0m\u001b[0;34m.\u001b[0m\u001b[0moptimizers\u001b[0m \u001b[0;32mimport\u001b[0m \u001b[0mSGD\u001b[0m\u001b[0;34m\u001b[0m\u001b[0m\n\u001b[1;32m      4\u001b[0m \u001b[0;34m\u001b[0m\u001b[0m\n\u001b[1;32m      5\u001b[0m \u001b[0;34m\u001b[0m\u001b[0m\n",
      "\u001b[0;31mImportError\u001b[0m: No module named 'keras'"
     ]
    }
   ],
   "source": [
    "from keras.models import Sequential\n",
    "from keras.layers import Dense, Activation, Convolution2D, Flatten, Reshape\n",
    "from keras.optimizers import SGD\n",
    "\n",
    "\n",
    "def compile_model(model, learning_rate=0.1, d=1e-6):\n",
    "    sgd = SGD(lr=learning_rate, decay=d) \n",
    "    model.compile(loss='categorical_crossentropy',\n",
    "              optimizer=sgd,\n",
    "              metrics=['categorical_accuracy'])\n",
    "    \n",
    "    return model\n",
    "\n",
    "def model1():\n",
    "    model = Sequential()\n",
    "    model.add(Dense(2, input_dim=100))\n",
    "    model.add(Activation('softmax'))\n",
    "\n",
    "    return model\n",
    "\n",
    "def train_and_test_model(model, train_dataset, train_labels, test_dataset, test_labels, bs=256, epoch=20):\n",
    "    model.fit(train_dataset, train_labels, batch_size=bs, nb_epoch=epoch)\n",
    "    score = model.evaluate(test_dataset, test_labels)\n",
    "    print(score)"
   ]
  },
  {
   "cell_type": "code",
   "execution_count": 31,
   "metadata": {
    "collapsed": false
   },
   "outputs": [],
   "source": [
    "def labels_one_hot_encoding(labels):\n",
    "    l = len(labels)\n",
    "    tl = np.zeros((l, 2))\n",
    "    tl[np.arange(l), labels] = 1\n",
    "    return tl\n",
    "\n",
    "train_labels = labels_one_hot_encoding(y_train)\n",
    "test_labels = labels_one_hot_encoding(y_test)"
   ]
  },
  {
   "cell_type": "code",
   "execution_count": 32,
   "metadata": {
    "collapsed": false
   },
   "outputs": [
    {
     "name": "stdout",
     "output_type": "stream",
     "text": [
      "Epoch 1/20\n",
      "22500/22500 [==============================] - 0s - loss: 0.5083 - categorical_accuracy: 0.7692     \n",
      "Epoch 2/20\n",
      "22500/22500 [==============================] - 0s - loss: 0.4270 - categorical_accuracy: 0.8148     \n",
      "Epoch 3/20\n",
      "22500/22500 [==============================] - 0s - loss: 0.4074 - categorical_accuracy: 0.8244     \n",
      "Epoch 4/20\n",
      "22500/22500 [==============================] - 0s - loss: 0.3971 - categorical_accuracy: 0.8286     \n",
      "Epoch 5/20\n",
      "22500/22500 [==============================] - 0s - loss: 0.3910 - categorical_accuracy: 0.8317     \n",
      "Epoch 6/20\n",
      "22500/22500 [==============================] - 0s - loss: 0.3869 - categorical_accuracy: 0.8347     \n",
      "Epoch 7/20\n",
      "22500/22500 [==============================] - 0s - loss: 0.3838 - categorical_accuracy: 0.8354     \n",
      "Epoch 8/20\n",
      "22500/22500 [==============================] - 0s - loss: 0.3818 - categorical_accuracy: 0.8360     \n",
      "Epoch 9/20\n",
      "22500/22500 [==============================] - 0s - loss: 0.3797 - categorical_accuracy: 0.8369     \n",
      "Epoch 10/20\n",
      "22500/22500 [==============================] - 0s - loss: 0.3781 - categorical_accuracy: 0.8364     \n",
      "Epoch 11/20\n",
      "22500/22500 [==============================] - 0s - loss: 0.3771 - categorical_accuracy: 0.8375     \n",
      "Epoch 12/20\n",
      "22500/22500 [==============================] - 0s - loss: 0.3761 - categorical_accuracy: 0.8387     \n",
      "Epoch 13/20\n",
      "22500/22500 [==============================] - 0s - loss: 0.3752 - categorical_accuracy: 0.8391     \n",
      "Epoch 14/20\n",
      "22500/22500 [==============================] - 0s - loss: 0.3742 - categorical_accuracy: 0.8387     \n",
      "Epoch 15/20\n",
      "22500/22500 [==============================] - 0s - loss: 0.3739 - categorical_accuracy: 0.8396     \n",
      "Epoch 16/20\n",
      "22500/22500 [==============================] - 0s - loss: 0.3734 - categorical_accuracy: 0.8402     \n",
      "Epoch 17/20\n",
      "22500/22500 [==============================] - 0s - loss: 0.3725 - categorical_accuracy: 0.8396     \n",
      "Epoch 18/20\n",
      "22500/22500 [==============================] - 0s - loss: 0.3724 - categorical_accuracy: 0.8400     \n",
      "Epoch 19/20\n",
      "22500/22500 [==============================] - 0s - loss: 0.3719 - categorical_accuracy: 0.8400     \n",
      "Epoch 20/20\n",
      "22500/22500 [==============================] - 0s - loss: 0.3714 - categorical_accuracy: 0.8410     \n",
      "2500/2500 [==============================] - 0s     \n",
      "[0.37347039699554441, 0.84360000000000002]\n",
      "None\n"
     ]
    }
   ],
   "source": [
    "print(train_and_test_model(compile_model(model1()), train_dataset, train_labels, test_dataset, test_labels, bs=50, epoch=20))"
   ]
  },
  {
   "cell_type": "code",
   "execution_count": 33,
   "metadata": {
    "collapsed": false
   },
   "outputs": [],
   "source": [
    "rev_len = 100\n",
    "\n",
    "def prep3(X, model):\n",
    "    X_new = []\n",
    "    for i in range(len(X)):\n",
    "        k = X[i]\n",
    "        words = []\n",
    "        j = 0\n",
    "        for s in reviews[k][1]:\n",
    "            for w in s:\n",
    "                if w in model:\n",
    "                    if j < rev_len:\n",
    "                        words.append(np.array(model[w]))\n",
    "                        j += 1\n",
    "                \n",
    "        \n",
    "        while j < rev_len:\n",
    "            a = np.empty(100)\n",
    "            a.fill(0)\n",
    "            words.append(a)\n",
    "            j += 1\n",
    "        \n",
    "        X_new.append(np.array(words))\n",
    "    return np.array(X_new)"
   ]
  },
  {
   "cell_type": "code",
   "execution_count": 34,
   "metadata": {
    "collapsed": false
   },
   "outputs": [
    {
     "name": "stdout",
     "output_type": "stream",
     "text": [
      "(22500, 100, 100)\n"
     ]
    }
   ],
   "source": [
    "X_train2 = prep3(X_train, model)\n",
    "X_test2 = prep3(X_test, model)\n",
    "\n",
    "print(X_train2.shape)"
   ]
  },
  {
   "cell_type": "code",
   "execution_count": 35,
   "metadata": {
    "collapsed": false
   },
   "outputs": [],
   "source": [
    "from keras.layers import Dense, Dropout, Activation\n",
    "from keras.layers import LSTM, SimpleRNN, GRU\n",
    "\n",
    "\n",
    "def model2(seq_len):\n",
    "    model = Sequential()\n",
    "    model.add(LSTM(seq_len, input_shape=(seq_len, 100), dropout_W=0.2, dropout_U=0.2)) \n",
    "    model.add(Dense(1))\n",
    "    model.add(Activation('sigmoid'))\n",
    "\n",
    "    model.compile(loss='binary_crossentropy',\n",
    "                  optimizer='adam',\n",
    "                  metrics=['accuracy'])\n",
    "    return model\n",
    "\n",
    "model2 = model2(rev_len)"
   ]
  },
  {
   "cell_type": "code",
   "execution_count": 36,
   "metadata": {
    "collapsed": false
   },
   "outputs": [
    {
     "name": "stdout",
     "output_type": "stream",
     "text": [
      "(22500, 100, 100)\n",
      "Epoch 1/15\n",
      "22500/22500 [==============================] - 110s - loss: 0.6284 - acc: 0.6562   \n",
      "Epoch 2/15\n",
      "22500/22500 [==============================] - 107s - loss: 0.5669 - acc: 0.7260   \n",
      "Epoch 3/15\n",
      "22500/22500 [==============================] - 122s - loss: 0.5367 - acc: 0.7334   \n",
      "Epoch 4/15\n",
      "22500/22500 [==============================] - 125s - loss: 0.5070 - acc: 0.7598   \n",
      "Epoch 5/15\n",
      "22500/22500 [==============================] - 108s - loss: 0.5107 - acc: 0.7639   \n",
      "Epoch 6/15\n",
      "22500/22500 [==============================] - 108s - loss: 0.4624 - acc: 0.7895   \n",
      "Epoch 7/15\n",
      "22500/22500 [==============================] - 108s - loss: 0.4334 - acc: 0.8031   \n",
      "Epoch 8/15\n",
      "22500/22500 [==============================] - 108s - loss: 0.4115 - acc: 0.8180   \n",
      "Epoch 9/15\n",
      "22500/22500 [==============================] - 109s - loss: 0.3969 - acc: 0.8224   \n",
      "Epoch 10/15\n",
      "22500/22500 [==============================] - 108s - loss: 0.3871 - acc: 0.8294   \n",
      "Epoch 11/15\n",
      "22500/22500 [==============================] - 109s - loss: 0.3766 - acc: 0.8341   \n",
      "Epoch 12/15\n",
      "22500/22500 [==============================] - 105s - loss: 0.3690 - acc: 0.8406   \n",
      "Epoch 13/15\n",
      "22500/22500 [==============================] - 103s - loss: 0.3601 - acc: 0.8423   \n",
      "Epoch 14/15\n",
      "22500/22500 [==============================] - 106s - loss: 0.3553 - acc: 0.8444   \n",
      "Epoch 15/15\n",
      "22500/22500 [==============================] - 102s - loss: 0.3480 - acc: 0.8493   \n",
      "2500/2500 [==============================] - 4s     \n",
      "Test score: 0.354025840759\n",
      "Test accuracy: 0.849599993229\n"
     ]
    }
   ],
   "source": [
    "print(X_train2.shape)\n",
    "\n",
    "model2.fit(X_train2, y_train, batch_size=50, nb_epoch=15)\n",
    "score, acc = model2.evaluate(X_test2, y_test, batch_size=50)\n",
    "print('Test score:', score)\n",
    "print('Test accuracy:', acc)"
   ]
  }
 ],
 "metadata": {
  "anaconda-cloud": {},
  "kernelspec": {
   "display_name": "Python [default]",
   "language": "python",
   "name": "python3"
  },
  "language_info": {
   "codemirror_mode": {
    "name": "ipython",
    "version": 3
   },
   "file_extension": ".py",
   "mimetype": "text/x-python",
   "name": "python",
   "nbconvert_exporter": "python",
   "pygments_lexer": "ipython3",
   "version": "3.5.2"
  }
 },
 "nbformat": 4,
 "nbformat_minor": 0
}
