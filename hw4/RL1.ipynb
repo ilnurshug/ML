{
 "cells": [
  {
   "cell_type": "code",
   "execution_count": 1,
   "metadata": {
    "collapsed": true
   },
   "outputs": [],
   "source": [
    "import numpy as np\n",
    "\n",
    "\n",
    "# heigth and width of grid\n",
    "H, W = 5, 5\n",
    "\n",
    "grid = [\n",
    "    [1,1,1,1,1],\n",
    "    [1,1,1,1,0],\n",
    "    [1,1,0,1,1],\n",
    "    [1,1,1,1,1],\n",
    "    [1,1,1,1,1]\n",
    "]\n",
    "\n",
    "# rewards\n",
    "R = [\n",
    "    [0,0,-100,0,100],\n",
    "    [0,0,0,0,0],\n",
    "    [0,0,0,0,0],\n",
    "    [0,0,0,-100,0],\n",
    "    [0,0,0,0,0]\n",
    "]\n",
    "\n",
    "# actions (directions of walk)\n",
    "A = [[1,0],[-1,0],[0,1],[0,-1]]\n",
    "   \n",
    "# transition function\n",
    "def delta(s, a):\n",
    "    i, j = s\n",
    "    return (i + A[a][0], j + A[a][1])\n",
    "    \n",
    "# check wheter action a is allowed in the current state s\n",
    "def allowed(a, s):\n",
    "    x, y = delta(s, a)\n",
    "    return x >= 0 and x < H and y >= 0 and y < W and grid[x][y] == 1\n",
    "\n",
    "# discount-factor\n",
    "gamma = 0.9\n",
    "\n",
    "# random walk policy\n",
    "def pi(a, s):\n",
    "    return 1. / len(A)\n",
    "\n",
    "# propability of transition to the new state s_new from state s with action a\n",
    "def p(s_new, s, a):\n",
    "    return int(s_new == delta(s, a)) and allowed(a, s)\n",
    "\n",
    "# reward from transition to the new state s_new from state s with action a\n",
    "def r(s_new, s, a):\n",
    "    i, j = s_new\n",
    "    return R[i][j]"
   ]
  },
  {
   "cell_type": "code",
   "execution_count": 2,
   "metadata": {
    "collapsed": false
   },
   "outputs": [
    {
     "name": "stdout",
     "output_type": "stream",
     "text": [
      "(3, 1)\n"
     ]
    }
   ],
   "source": [
    "import random\n",
    "\n",
    "\n",
    "S = set([(i,j) for i in range(0, H) for j in range(0, W) if grid[i][j] == 1])\n",
    "print(random.sample(S,1)[0])"
   ]
  },
  {
   "cell_type": "code",
   "execution_count": 3,
   "metadata": {
    "collapsed": true
   },
   "outputs": [],
   "source": [
    "# state-value function\n",
    "# iterative policy evalation: v - old state-value function, s - state\n",
    "def v_pi(s, v):\n",
    "    val = 0\n",
    "    for a in range(len(A)):\n",
    "        for s_new in S:\n",
    "            val += pi(a, s) * p(s_new, s, a) * (r(s_new, s, a) + gamma * v[s_new])\n",
    "    return val"
   ]
  },
  {
   "cell_type": "code",
   "execution_count": 4,
   "metadata": {
    "collapsed": false
   },
   "outputs": [],
   "source": [
    "def compute_state_value_function(iter_cnt):\n",
    "    n = len(S)\n",
    "    v_old = {}\n",
    "    for s in S:\n",
    "        i,j = s\n",
    "        v_old[s] = R[i][j]\n",
    "        \n",
    "    v_new = {}\n",
    "    \n",
    "    for i in range(iter_cnt):\n",
    "        for s in S:\n",
    "            v_new[s] = v_pi(s, v_old)\n",
    "        \n",
    "        v_old = v_new\n",
    "    \n",
    "    return v_old"
   ]
  },
  {
   "cell_type": "code",
   "execution_count": 5,
   "metadata": {
    "collapsed": true
   },
   "outputs": [],
   "source": [
    "def print_svf(v):\n",
    "    grid = []\n",
    "    for i in range(H):\n",
    "        grid.append(np.array([0] * W))\n",
    "    grid = np.array(grid)\n",
    "    \n",
    "    for s in v:\n",
    "        i,j = s\n",
    "        val = v[s]\n",
    "        grid[i][j] = val\n",
    "    \n",
    "    print(grid)    "
   ]
  },
  {
   "cell_type": "code",
   "execution_count": 42,
   "metadata": {
    "collapsed": false
   },
   "outputs": [
    {
     "name": "stdout",
     "output_type": "stream",
     "text": [
      "0\n",
      "[[   0    0 -100    0  100]\n",
      " [   0    0    0    0    0]\n",
      " [   0    0    0    0    0]\n",
      " [   0    0    0 -100    0]\n",
      " [   0    0    0    0    0]]\n",
      "1\n",
      "[[  0 -47   0   0   0]\n",
      " [  0   0 -47   0   0]\n",
      " [  0   0   0 -47   0]\n",
      " [  0   0 -47   0 -47]\n",
      " [  0   0   0 -47   0]]\n",
      "2\n",
      "[[-10 -36 -21  -9  -2]\n",
      " [ -6 -18 -34 -21   0]\n",
      " [ -1   0   0 -39 -17]\n",
      " [  0  -7 -34 -42 -39]\n",
      " [  0   0 -18 -43 -21]]\n",
      "3\n",
      "[[ -9 -35 -18  -8  -1]\n",
      " [ -6 -19 -37 -18   0]\n",
      " [ -3  -6   0 -41 -18]\n",
      " [ -2 -11 -38 -35 -41]\n",
      " [  0  -6 -19 -41 -18]]\n",
      "4\n",
      "[[ -9 -35 -18  -9  -2]\n",
      " [ -7 -19 -37 -19   0]\n",
      " [ -4  -7   0 -41 -18]\n",
      " [ -3 -13 -40 -36 -41]\n",
      " [ -2  -7 -20 -41 -18]]\n",
      "5\n",
      "[[ -9 -35 -18  -9  -2]\n",
      " [ -7 -20 -38 -19   0]\n",
      " [ -4  -8   0 -42 -18]\n",
      " [ -4 -13 -40 -37 -41]\n",
      " [ -2  -8 -20 -42 -18]]\n",
      "6\n",
      "[[ -9 -36 -18  -9  -2]\n",
      " [ -7 -20 -38 -20   0]\n",
      " [ -4  -8   0 -42 -18]\n",
      " [ -4 -14 -41 -37 -41]\n",
      " [ -2  -8 -20 -42 -18]]\n",
      "7\n",
      "[[ -9 -36 -18  -9  -2]\n",
      " [ -7 -20 -38 -20   0]\n",
      " [ -4  -8   0 -42 -18]\n",
      " [ -4 -14 -41 -37 -42]\n",
      " [ -3  -8 -20 -42 -18]]\n",
      "8\n",
      "[[ -9 -36 -18  -9  -2]\n",
      " [ -7 -20 -38 -20   0]\n",
      " [ -4  -8   0 -42 -18]\n",
      " [ -4 -14 -41 -37 -42]\n",
      " [ -3  -8 -20 -42 -19]]\n",
      "9\n",
      "[[ -9 -36 -18  -9  -2]\n",
      " [ -7 -20 -38 -20   0]\n",
      " [ -4  -8   0 -42 -18]\n",
      " [ -5 -14 -41 -37 -42]\n",
      " [ -3  -8 -20 -42 -19]]\n",
      "10\n",
      "[[ -9 -36 -18  -9  -2]\n",
      " [ -7 -20 -38 -20   0]\n",
      " [ -4  -8   0 -42 -18]\n",
      " [ -5 -14 -41 -37 -42]\n",
      " [ -3  -8 -20 -42 -19]]\n",
      "11\n",
      "[[ -9 -36 -18  -9  -2]\n",
      " [ -7 -20 -38 -20   0]\n",
      " [ -4  -8   0 -42 -18]\n",
      " [ -5 -14 -41 -37 -42]\n",
      " [ -3  -8 -20 -42 -19]]\n",
      "12\n",
      "[[ -9 -36 -18  -9  -2]\n",
      " [ -7 -20 -38 -20   0]\n",
      " [ -4  -8   0 -42 -18]\n",
      " [ -5 -14 -41 -37 -42]\n",
      " [ -3  -8 -20 -42 -19]]\n",
      "13\n",
      "[[ -9 -36 -18  -9  -2]\n",
      " [ -7 -20 -38 -20   0]\n",
      " [ -4  -8   0 -42 -18]\n",
      " [ -5 -14 -41 -37 -42]\n",
      " [ -3  -8 -20 -42 -19]]\n",
      "14\n",
      "[[ -9 -36 -18  -9  -2]\n",
      " [ -7 -20 -38 -20   0]\n",
      " [ -4  -8   0 -42 -18]\n",
      " [ -5 -14 -41 -37 -42]\n",
      " [ -3  -8 -20 -42 -19]]\n",
      "15\n",
      "[[ -9 -36 -18  -9  -2]\n",
      " [ -7 -20 -38 -20   0]\n",
      " [ -4  -8   0 -42 -18]\n",
      " [ -5 -14 -41 -37 -42]\n",
      " [ -3  -8 -20 -42 -19]]\n",
      "16\n",
      "[[ -9 -36 -18  -9  -2]\n",
      " [ -7 -20 -38 -20   0]\n",
      " [ -4  -8   0 -42 -18]\n",
      " [ -5 -14 -41 -37 -42]\n",
      " [ -3  -8 -20 -42 -19]]\n",
      "17\n",
      "[[ -9 -36 -18  -9  -2]\n",
      " [ -7 -20 -38 -20   0]\n",
      " [ -4  -8   0 -42 -18]\n",
      " [ -5 -14 -41 -37 -42]\n",
      " [ -3  -8 -20 -42 -19]]\n",
      "18\n",
      "[[ -9 -36 -18  -9  -2]\n",
      " [ -7 -20 -38 -20   0]\n",
      " [ -4  -8   0 -42 -18]\n",
      " [ -5 -14 -41 -37 -42]\n",
      " [ -3  -8 -20 -42 -19]]\n",
      "19\n",
      "[[ -9 -36 -18  -9  -2]\n",
      " [ -7 -20 -38 -20   0]\n",
      " [ -4  -8   0 -42 -18]\n",
      " [ -5 -14 -41 -37 -42]\n",
      " [ -3  -8 -20 -42 -19]]\n"
     ]
    }
   ],
   "source": [
    "for i in range(0, 20, 1):\n",
    "    v = compute_state_value_function(i)\n",
    "    print(i)\n",
    "    print_svf(v)"
   ]
  },
  {
   "cell_type": "code",
   "execution_count": 28,
   "metadata": {
    "collapsed": false
   },
   "outputs": [
    {
     "name": "stdout",
     "output_type": "stream",
     "text": [
      "[[ -9 -36 -18  -9  -2]\n",
      " [ -7 -20 -38 -20   0]\n",
      " [ -4  -8   0 -42 -18]\n",
      " [ -5 -14 -41 -37 -42]\n",
      " [ -3  -8 -20 -42 -19]]\n"
     ]
    }
   ],
   "source": [
    "v = compute_state_value_function(20)\n",
    "print_svf(v)"
   ]
  },
  {
   "cell_type": "code",
   "execution_count": 6,
   "metadata": {
    "collapsed": false
   },
   "outputs": [],
   "source": [
    "from scipy.stats import bernoulli\n",
    "\n",
    "\n",
    "def allowed_actions(s):\n",
    "    return [a for a in range(len(A)) if allowed(a,s)]\n",
    "\n",
    "\n",
    "def optimal_policy(s, Q):\n",
    "    return optimal(Q, s)\n",
    "\n",
    "def optimal_value_func(s, Q):\n",
    "    return np.max([Q[s][a] for a in allowed_actions(s)])\n",
    "\n",
    "\n",
    "def optimal(Q, s):\n",
    "    As = allowed_actions(s)\n",
    "    return As[np.argmax([Q[s][a] for a in As])]\n",
    "\n",
    "def eps_greedy_step(Q, s, eps):\n",
    "    choose_opt = (bernoulli.rvs(1 - eps) == 1)\n",
    "    if choose_opt:\n",
    "        return optimal(Q, s)\n",
    "    else:\n",
    "        As = allowed_actions(s)\n",
    "        return As[np.random.random_integers(0, len(As) - 1)]\n",
    "\n",
    "def init_Q():\n",
    "    Q = {}\n",
    "    for s in S:\n",
    "        Q[s] = [0] * len(A)\n",
    "    return Q\n",
    "    \n",
    "def Q_learning(gamma, alpha, eps, init_state, final_state, iter_cnt, show=True, step=10):\n",
    "    Q = init_Q()\n",
    "    for i in range(iter_cnt):\n",
    "        s = init_state\n",
    "        \n",
    "        while True:\n",
    "            a = eps_greedy_step(Q, s, eps)\n",
    "            sn = delta(s, a)\n",
    "            reward = r(sn, s, a)\n",
    "            \n",
    "            Q[s][a] += alpha * (reward + gamma * Q[sn][optimal(Q, sn)] - Q[s][a])\n",
    "#             print(s, sn, A[a], reward, Q[s][a])\n",
    "            \n",
    "            s = sn\n",
    "            if s == final_state:\n",
    "                break\n",
    "        \n",
    "        if show and (i % step == 0 or i == iter_cnt - 1):\n",
    "            print_svf({ s: optimal_value_func(s, Q) for s in S})\n",
    "                \n",
    "    return Q"
   ]
  },
  {
   "cell_type": "code",
   "execution_count": 29,
   "metadata": {
    "collapsed": false
   },
   "outputs": [
    {
     "name": "stderr",
     "output_type": "stream",
     "text": [
      "/home/austud/anaconda3/lib/python3.5/site-packages/ipykernel/__main__.py:25: DeprecationWarning: This function is deprecated. Please call randint(0, 1 + 1) instead\n",
      "/home/austud/anaconda3/lib/python3.5/site-packages/ipykernel/__main__.py:25: DeprecationWarning: This function is deprecated. Please call randint(0, 2 + 1) instead\n",
      "/home/austud/anaconda3/lib/python3.5/site-packages/ipykernel/__main__.py:25: DeprecationWarning: This function is deprecated. Please call randint(0, 3 + 1) instead\n"
     ]
    },
    {
     "name": "stdout",
     "output_type": "stream",
     "text": [
      "[[ 0  0  0 50  0]\n",
      " [ 0  0  0  0  0]\n",
      " [ 0  0  0  0  0]\n",
      " [ 0  0  0  0  0]\n",
      " [ 0  0  0  0  0]]\n",
      "[[ 15  49  90 100   0]\n",
      " [ 26  72  81  90   0]\n",
      " [ 31  34   0  81  72]\n",
      " [ 34  38  43  72  65]\n",
      " [ 38  43  47  53  59]]\n",
      "[[ 15  64  90 100   0]\n",
      " [ 26  72  81  90   0]\n",
      " [ 31  34   0  81  72]\n",
      " [ 34  38  43  72  65]\n",
      " [ 38  43  47  53  59]]\n",
      "[[ 41  65  90 100   0]\n",
      " [ 65  72  81  90   0]\n",
      " [ 59  65   0  81  72]\n",
      " [ 53  59  53  72  65]\n",
      " [ 47  53  47  53  59]]\n",
      "[[ 59  65  90 100   0]\n",
      " [ 65  72  81  90   0]\n",
      " [ 59  65   0  81  72]\n",
      " [ 53  59  53  72  65]\n",
      " [ 47  53  47  53  59]]\n"
     ]
    }
   ],
   "source": [
    "Q = Q_learning(0.9, 0.5, 0.1, (4,0), (0,4), 20000, True, 5000)"
   ]
  },
  {
   "cell_type": "code",
   "execution_count": 10,
   "metadata": {
    "collapsed": true
   },
   "outputs": [],
   "source": [
    "# A = [[1,0],[-1,0],[0,1],[0,-1]]\n",
    "arrows = ['↓', '↑', '→', '←',]\n",
    "\n",
    "def print_opt_policy(Q):\n",
    "    grid = []\n",
    "    for i in range(H):\n",
    "        grid.append(np.array(['X'] * W))\n",
    "    grid = np.array(grid)\n",
    "    \n",
    "    for s in S:\n",
    "        i,j = s\n",
    "        val = arrows[optimal_policy(s, Q)]\n",
    "        grid[i][j] = val\n",
    "    \n",
    "    print(grid)    "
   ]
  },
  {
   "cell_type": "code",
   "execution_count": 30,
   "metadata": {
    "collapsed": false
   },
   "outputs": [
    {
     "name": "stdout",
     "output_type": "stream",
     "text": [
      "[['↓' '↓' '→' '→' '←']\n",
      " ['→' '→' '→' '↑' 'X']\n",
      " ['↑' '↑' 'X' '↑' '←']\n",
      " ['↑' '↑' '←' '↑' '↑']\n",
      " ['↑' '↑' '→' '→' '↑']]\n"
     ]
    }
   ],
   "source": [
    "print_opt_policy(Q)"
   ]
  },
  {
   "cell_type": "code",
   "execution_count": 47,
   "metadata": {
    "collapsed": true
   },
   "outputs": [],
   "source": [
    "def cooling(T0, k, al=0.8):\n",
    "#     return max(1.0, T0 * (al ** k))\n",
    "    return max(1.0, T0 - k)\n",
    "\n",
    "def softmax(w, t=1.0):\n",
    "    w = np.array(w)\n",
    "    mx = np.max(w)\n",
    "    e = np.exp((w - mx) / t)\n",
    "    dist = e / np.sum(e)\n",
    "    return dist\n",
    "\n",
    "def Boltzman(Q, s, T0, k):\n",
    "    As = allowed_actions(s)\n",
    "    elements = np.array(As)\n",
    "    probabilities = np.array(softmax([ Q[s][a] for a in As ], cooling(T0, k)))\n",
    "    a = np.random.choice(elements, 1, list(probabilities))\n",
    "#     print(s, As, [ Q[s][a] for a in As ], probabilities, a)\n",
    "    return a\n",
    "\n",
    "def Boltzman_eps_greedy_step(Q, s, eps, T0, k):\n",
    "    choose_opt = (bernoulli.rvs(1 - eps) == 1)\n",
    "    if choose_opt:\n",
    "        return optimal(Q, s)\n",
    "    else:\n",
    "        return Boltzman(Q, s, T0, k)\n",
    "\n",
    "\n",
    "def SARSA(gamma, alpha, T0, init_state, final_state, iter_cnt, show=True, step=10):\n",
    "    Q = init_Q()\n",
    "    \n",
    "    # episodes\n",
    "    for i in range(iter_cnt):\n",
    "        s = init_state\n",
    "        a = Boltzman(Q, s, T0, i)\n",
    "#         a = Boltzman_eps_greedy_step(Q, s, 0.2, T0, i) \n",
    "#         a = eps_greedy_step(Q, s, 0.1)    \n",
    "        # steps in episode\n",
    "        while True:\n",
    "            sn = delta(s, a)\n",
    "            reward = r(sn, s, a)\n",
    "            an = Boltzman(Q, sn, T0, i)\n",
    "#             an = Boltzman_eps_greedy_step(Q, sn, 0.2, T0, i)\n",
    "#             an = eps_greedy_step(Q, sn, 0.1)\n",
    "    \n",
    "            Q[s][a] += alpha * (reward + gamma * Q[sn][an] - Q[s][a])\n",
    "            \n",
    "#             print(s, a, sn, an, Q[s][a], Q[sn][an])\n",
    "            \n",
    "            s, a = sn, an\n",
    "            if s == final_state:\n",
    "                break\n",
    "        \n",
    "        if show and (i % step == 0 or i == iter_cnt - 1):\n",
    "            print_svf({ s: optimal_value_func(s, Q) for s in S})\n",
    "                \n",
    "    return Q"
   ]
  },
  {
   "cell_type": "code",
   "execution_count": 48,
   "metadata": {
    "collapsed": false
   },
   "outputs": [
    {
     "name": "stderr",
     "output_type": "stream",
     "text": [
      "/home/austud/anaconda3/lib/python3.5/site-packages/ipykernel/__main__.py:30: VisibleDeprecationWarning: converting an array with ndim > 0 to an index will result in an error in the future\n",
      "/home/austud/anaconda3/lib/python3.5/site-packages/ipykernel/__main__.py:45: VisibleDeprecationWarning: converting an array with ndim > 0 to an index will result in an error in the future\n"
     ]
    },
    {
     "name": "stdout",
     "output_type": "stream",
     "text": [
      "[[ 0  0  0 50  0]\n",
      " [ 0  0  0  0  0]\n",
      " [ 0  0  0  0  0]\n",
      " [ 0  0  0  0  0]\n",
      " [ 0  0  0  0  0]]\n",
      "[[  0  -1  -7 100   0]\n",
      " [  0   0   3  34   0]\n",
      " [  0   0   0  11 -10]\n",
      " [  0   0   0  -3  -4]\n",
      " [  0   0   0  -3 -11]]\n",
      "[[  0   0  21 100   0]\n",
      " [  0   0   1 -14   0]\n",
      " [  0   0   0  -5 -19]\n",
      " [  0   0   0  -4  -7]\n",
      " [  0   0   0  -4 -10]]\n",
      "[[  0  -1  35 100   0]\n",
      " [  0   0  -1  11   0]\n",
      " [ -1   0   0  -5 -13]\n",
      " [  0   0  -1  -2  -6]\n",
      " [  0   0   0  -1  -1]]\n",
      "[['↓' '←' '→' '→' '←']\n",
      " ['↓' '↓' '←' '↑' 'X']\n",
      " ['↓' '←' 'X' '→' '←']\n",
      " ['↓' '←' '↓' '↓' '↓']\n",
      " ['↑' '←' '←' '←' '←']]\n"
     ]
    }
   ],
   "source": [
    "Q = SARSA(0.4, 0.5, 1000.0, (4,0), (0,4), 15000, True, 5000)\n",
    "print_opt_policy(Q)"
   ]
  }
 ],
 "metadata": {
  "anaconda-cloud": {},
  "kernelspec": {
   "display_name": "Python [conda root]",
   "language": "python",
   "name": "conda-root-py"
  },
  "language_info": {
   "codemirror_mode": {
    "name": "ipython",
    "version": 3
   },
   "file_extension": ".py",
   "mimetype": "text/x-python",
   "name": "python",
   "nbconvert_exporter": "python",
   "pygments_lexer": "ipython3",
   "version": "3.5.2"
  }
 },
 "nbformat": 4,
 "nbformat_minor": 1
}
